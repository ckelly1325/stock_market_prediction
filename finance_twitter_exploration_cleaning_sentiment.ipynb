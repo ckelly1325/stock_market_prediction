{
 "cells": [
  {
   "cell_type": "markdown",
   "metadata": {},
   "source": [
    "# Basic Data Exploration"
   ]
  },
  {
   "cell_type": "markdown",
   "metadata": {},
   "source": [
    "The dataset used in this notebook is one month of tweets (July 2018) that were downloaded from archive.org's twitter stream, extracted, and saved to .csv. To obtain only finance related tweets, a regex filter was used to obtain tweets that had a cashtag. Based on a quick review of a sample of tweets, it looks like the majority are finance related. The ultimate goal is to perform sentiment analysis of the tweets and predict future stock price based on the sentiment analysis."
   ]
  },
  {
   "cell_type": "code",
   "execution_count": 1,
   "metadata": {},
   "outputs": [],
   "source": [
    "# imports\n",
    "import numpy as np\n",
    "import pandas as pd\n",
    "import matplotlib.pyplot as plt\n",
    "import seaborn as sns\n",
    "import regex as re\n",
    "import nltk\n",
    "from collections import Counter\n",
    "import re\n",
    "import html\n",
    "import textacy.preprocessing as tprep\n",
    "import spacy\n",
    "from spacy.tokenizer import Tokenizer\n",
    "from spacy.util import compile_prefix_regex, compile_infix_regex, compile_suffix_regex\n",
    "import textacy\n",
    "from nltk.sentiment.vader import SentimentIntensityAnalyzer\n",
    "%matplotlib inline"
   ]
  },
  {
   "cell_type": "code",
   "execution_count": 2,
   "metadata": {},
   "outputs": [
    {
     "data": {
      "text/plain": [
       "(39385, 15)"
      ]
     },
     "execution_count": 2,
     "metadata": {},
     "output_type": "execute_result"
    }
   ],
   "source": [
    "# load the data set that was saved at the end of the previous notebook\n",
    "tweets = pd.read_csv('july_finance_tweets.csv')\n",
    "tweets.shape"
   ]
  },
  {
   "cell_type": "code",
   "execution_count": 3,
   "metadata": {},
   "outputs": [
    {
     "data": {
      "text/html": [
       "<div>\n",
       "<style scoped>\n",
       "    .dataframe tbody tr th:only-of-type {\n",
       "        vertical-align: middle;\n",
       "    }\n",
       "\n",
       "    .dataframe tbody tr th {\n",
       "        vertical-align: top;\n",
       "    }\n",
       "\n",
       "    .dataframe thead th {\n",
       "        text-align: right;\n",
       "    }\n",
       "</style>\n",
       "<table border=\"1\" class=\"dataframe\">\n",
       "  <thead>\n",
       "    <tr style=\"text-align: right;\">\n",
       "      <th></th>\n",
       "      <th>Unnamed: 0</th>\n",
       "      <th>Unnamed: 0.1</th>\n",
       "      <th>tweet_date</th>\n",
       "      <th>tweet_id</th>\n",
       "      <th>tweet_text</th>\n",
       "      <th>lang</th>\n",
       "      <th>retweet</th>\n",
       "      <th>tweet_url</th>\n",
       "      <th>tweet_reply</th>\n",
       "      <th>hashes</th>\n",
       "      <th>user_name</th>\n",
       "      <th>screen_name</th>\n",
       "      <th>user_verified</th>\n",
       "      <th>user_lang</th>\n",
       "      <th>regex_matches</th>\n",
       "    </tr>\n",
       "  </thead>\n",
       "  <tbody>\n",
       "    <tr>\n",
       "      <th>0</th>\n",
       "      <td>239</td>\n",
       "      <td>239</td>\n",
       "      <td>Wed Jul 18 06:30:20 +0000 2018</td>\n",
       "      <td>1019469400934703104</td>\n",
       "      <td>RT @tradingroomapp: #Bitcoin what next?\\n\\n$BT...</td>\n",
       "      <td>en</td>\n",
       "      <td>False</td>\n",
       "      <td>False</td>\n",
       "      <td>False</td>\n",
       "      <td>[{'text': 'Bitcoin', 'indices': [20, 28]}]</td>\n",
       "      <td>Coin [shreds every coin] Shredder</td>\n",
       "      <td>ShredderSupport</td>\n",
       "      <td>False</td>\n",
       "      <td>en</td>\n",
       "      <td>['$BTC']</td>\n",
       "    </tr>\n",
       "    <tr>\n",
       "      <th>1</th>\n",
       "      <td>1316</td>\n",
       "      <td>1316</td>\n",
       "      <td>Wed Jul 18 06:32:16 +0000 2018</td>\n",
       "      <td>1019469887457103872</td>\n",
       "      <td>Fidus Investment Corp $FDUS Receives Consensus...</td>\n",
       "      <td>en</td>\n",
       "      <td>False</td>\n",
       "      <td>True</td>\n",
       "      <td>False</td>\n",
       "      <td>[]</td>\n",
       "      <td>Ticker Report</td>\n",
       "      <td>TickerReport</td>\n",
       "      <td>False</td>\n",
       "      <td>en</td>\n",
       "      <td>['$FDUS']</td>\n",
       "    </tr>\n",
       "  </tbody>\n",
       "</table>\n",
       "</div>"
      ],
      "text/plain": [
       "   Unnamed: 0  Unnamed: 0.1                      tweet_date  \\\n",
       "0         239           239  Wed Jul 18 06:30:20 +0000 2018   \n",
       "1        1316          1316  Wed Jul 18 06:32:16 +0000 2018   \n",
       "\n",
       "              tweet_id                                         tweet_text  \\\n",
       "0  1019469400934703104  RT @tradingroomapp: #Bitcoin what next?\\n\\n$BT...   \n",
       "1  1019469887457103872  Fidus Investment Corp $FDUS Receives Consensus...   \n",
       "\n",
       "  lang  retweet  tweet_url  tweet_reply  \\\n",
       "0   en    False      False        False   \n",
       "1   en    False       True        False   \n",
       "\n",
       "                                       hashes  \\\n",
       "0  [{'text': 'Bitcoin', 'indices': [20, 28]}]   \n",
       "1                                          []   \n",
       "\n",
       "                           user_name      screen_name  user_verified  \\\n",
       "0  Coin [shreds every coin] Shredder  ShredderSupport          False   \n",
       "1                      Ticker Report     TickerReport          False   \n",
       "\n",
       "  user_lang regex_matches  \n",
       "0        en      ['$BTC']  \n",
       "1        en     ['$FDUS']  "
      ]
     },
     "execution_count": 3,
     "metadata": {},
     "output_type": "execute_result"
    }
   ],
   "source": [
    "tweets.head(2)"
   ]
  },
  {
   "cell_type": "code",
   "execution_count": 5,
   "metadata": {},
   "outputs": [
    {
     "data": {
      "text/plain": [
       "Index(['Unnamed: 0', 'Unnamed: 0.1', 'tweet_date', 'tweet_id', 'tweet_text',\n",
       "       'lang', 'retweet', 'tweet_url', 'tweet_reply', 'hashes', 'user_name',\n",
       "       'screen_name', 'user_verified', 'user_lang', 'regex_matches'],\n",
       "      dtype='object')"
      ]
     },
     "execution_count": 5,
     "metadata": {},
     "output_type": "execute_result"
    }
   ],
   "source": [
    "tweets.columns"
   ]
  },
  {
   "cell_type": "code",
   "execution_count": 6,
   "metadata": {},
   "outputs": [
    {
     "data": {
      "text/plain": [
       "Unnamed: 0        int64\n",
       "Unnamed: 0.1      int64\n",
       "tweet_date       object\n",
       "tweet_id          int64\n",
       "tweet_text       object\n",
       "lang             object\n",
       "retweet            bool\n",
       "tweet_url          bool\n",
       "tweet_reply        bool\n",
       "hashes           object\n",
       "user_name        object\n",
       "screen_name      object\n",
       "user_verified      bool\n",
       "user_lang        object\n",
       "regex_matches    object\n",
       "dtype: object"
      ]
     },
     "execution_count": 6,
     "metadata": {},
     "output_type": "execute_result"
    }
   ],
   "source": [
    "tweets.dtypes"
   ]
  },
  {
   "cell_type": "code",
   "execution_count": 7,
   "metadata": {},
   "outputs": [
    {
     "name": "stdout",
     "output_type": "stream",
     "text": [
      "<class 'pandas.core.frame.DataFrame'>\n",
      "RangeIndex: 39385 entries, 0 to 39384\n",
      "Data columns (total 15 columns):\n",
      "Unnamed: 0       39385 non-null int64\n",
      "Unnamed: 0.1     39385 non-null int64\n",
      "tweet_date       39385 non-null object\n",
      "tweet_id         39385 non-null int64\n",
      "tweet_text       39385 non-null object\n",
      "lang             39385 non-null object\n",
      "retweet          39385 non-null bool\n",
      "tweet_url        39385 non-null bool\n",
      "tweet_reply      39385 non-null bool\n",
      "hashes           39385 non-null object\n",
      "user_name        39372 non-null object\n",
      "screen_name      39385 non-null object\n",
      "user_verified    39385 non-null bool\n",
      "user_lang        39385 non-null object\n",
      "regex_matches    39385 non-null object\n",
      "dtypes: bool(4), int64(3), object(8)\n",
      "memory usage: 3.5+ MB\n"
     ]
    }
   ],
   "source": [
    "tweets.info()"
   ]
  },
  {
   "cell_type": "code",
   "execution_count": 3,
   "metadata": {},
   "outputs": [],
   "source": [
    "# add new column that contains the length of the tweet\n",
    "tweets['length'] = tweets['tweet_text'].str.len()"
   ]
  },
  {
   "cell_type": "code",
   "execution_count": 9,
   "metadata": {},
   "outputs": [
    {
     "data": {
      "text/plain": [
       "count    39385.000000\n",
       "mean       108.795938\n",
       "std         32.839124\n",
       "min          5.000000\n",
       "25%         86.000000\n",
       "50%        116.000000\n",
       "75%        140.000000\n",
       "max        171.000000\n",
       "Name: length, dtype: float64"
      ]
     },
     "execution_count": 9,
     "metadata": {},
     "output_type": "execute_result"
    }
   ],
   "source": [
    "tweets['length'].describe()"
   ]
  },
  {
   "cell_type": "markdown",
   "metadata": {},
   "source": [
    "Twitter increased the character limit from 140 to 280 in 2017 (before the tweets in this dataset were created). It doesn't look like most users take advantage of the increased limit."
   ]
  },
  {
   "cell_type": "code",
   "execution_count": 10,
   "metadata": {},
   "outputs": [
    {
     "data": {
      "text/plain": [
       "<matplotlib.axes._subplots.AxesSubplot at 0x1e1c97eac88>"
      ]
     },
     "execution_count": 10,
     "metadata": {},
     "output_type": "execute_result"
    },
    {
     "data": {
      "image/png": "[encoded data removed]",
      "text/plain": [
       "<Figure size 432x288 with 1 Axes>"
      ]
     },
     "metadata": {
      "needs_background": "light"
     },
     "output_type": "display_data"
    }
   ],
   "source": [
    "tweets['length'].plot(kind='hist', bins=50)"
   ]
  },
  {
   "cell_type": "code",
   "execution_count": 11,
   "metadata": {},
   "outputs": [
    {
     "data": {
      "text/plain": [
       "<matplotlib.axes._subplots.AxesSubplot at 0x1e1c9b83a88>"
      ]
     },
     "execution_count": 11,
     "metadata": {},
     "output_type": "execute_result"
    },
    {
     "data": {
      "image/png": "[encoded data removed]",
      "text/plain": [
       "<Figure size 432x288 with 1 Axes>"
      ]
     },
     "metadata": {
      "needs_background": "light"
     },
     "output_type": "display_data"
    }
   ],
   "source": [
    "tweets['regex_matches'].value_counts().head(10).plot.barh(title='Most Common Cashtags Used')"
   ]
  },
  {
   "cell_type": "code",
   "execution_count": 12,
   "metadata": {},
   "outputs": [
    {
     "data": {
      "text/plain": [
       "<matplotlib.axes._subplots.AxesSubplot at 0x1e1c9c62948>"
      ]
     },
     "execution_count": 12,
     "metadata": {},
     "output_type": "execute_result"
    },
    {
     "data": {
      "image/png": "[encoded data removed]",
      "text/plain": [
       "<Figure size 432x288 with 1 Axes>"
      ]
     },
     "metadata": {
      "needs_background": "light"
     },
     "output_type": "display_data"
    }
   ],
   "source": [
    "tweets['screen_name'].value_counts().head(10).plot.barh(title='Most Common Screen Names')"
   ]
  },
  {
   "cell_type": "code",
   "execution_count": 13,
   "metadata": {},
   "outputs": [],
   "source": [
    "# basic function to tokenize tweets with regex\n",
    "def tokenize(text):\n",
    "    return re.findall(r'[\\w-]*\\p{L}[\\w-]*', text)"
   ]
  },
  {
   "cell_type": "code",
   "execution_count": 14,
   "metadata": {},
   "outputs": [],
   "source": [
    "# import stopwords from nltk library\n",
    "stopwords = set(nltk.corpus.stopwords.words('english'))"
   ]
  },
  {
   "cell_type": "code",
   "execution_count": 15,
   "metadata": {},
   "outputs": [],
   "source": [
    "# return lowercase words if they are not included in the stop words list\n",
    "def remove_stop(tokens):\n",
    "    return [t for t in tokens if t.lower() not in stopwords]"
   ]
  },
  {
   "cell_type": "code",
   "execution_count": 16,
   "metadata": {},
   "outputs": [],
   "source": [
    "# pull all the preprocessing functions together\n",
    "def prepare(text, pipeline):\n",
    "    tokens = text\n",
    "    for transform in pipeline:\n",
    "        tokens = transform(tokens)\n",
    "    return tokens"
   ]
  },
  {
   "cell_type": "code",
   "execution_count": 17,
   "metadata": {},
   "outputs": [
    {
     "data": {
      "text/html": [
       "<div>\n",
       "<style scoped>\n",
       "    .dataframe tbody tr th:only-of-type {\n",
       "        vertical-align: middle;\n",
       "    }\n",
       "\n",
       "    .dataframe tbody tr th {\n",
       "        vertical-align: top;\n",
       "    }\n",
       "\n",
       "    .dataframe thead th {\n",
       "        text-align: right;\n",
       "    }\n",
       "</style>\n",
       "<table border=\"1\" class=\"dataframe\">\n",
       "  <thead>\n",
       "    <tr style=\"text-align: right;\">\n",
       "      <th></th>\n",
       "      <th>Unnamed: 0</th>\n",
       "      <th>Unnamed: 0.1</th>\n",
       "      <th>tweet_date</th>\n",
       "      <th>tweet_id</th>\n",
       "      <th>tweet_text</th>\n",
       "      <th>lang</th>\n",
       "      <th>retweet</th>\n",
       "      <th>tweet_url</th>\n",
       "      <th>tweet_reply</th>\n",
       "      <th>hashes</th>\n",
       "      <th>user_name</th>\n",
       "      <th>screen_name</th>\n",
       "      <th>user_verified</th>\n",
       "      <th>user_lang</th>\n",
       "      <th>regex_matches</th>\n",
       "      <th>length</th>\n",
       "      <th>tokens</th>\n",
       "    </tr>\n",
       "  </thead>\n",
       "  <tbody>\n",
       "    <tr>\n",
       "      <th>0</th>\n",
       "      <td>239</td>\n",
       "      <td>239</td>\n",
       "      <td>Wed Jul 18 06:30:20 +0000 2018</td>\n",
       "      <td>1019469400934703104</td>\n",
       "      <td>RT @tradingroomapp: #Bitcoin what next?\\n\\n$BT...</td>\n",
       "      <td>en</td>\n",
       "      <td>False</td>\n",
       "      <td>False</td>\n",
       "      <td>False</td>\n",
       "      <td>[{'text': 'Bitcoin', 'indices': [20, 28]}]</td>\n",
       "      <td>Coin [shreds every coin] Shredder</td>\n",
       "      <td>ShredderSupport</td>\n",
       "      <td>False</td>\n",
       "      <td>en</td>\n",
       "      <td>['$BTC']</td>\n",
       "      <td>140</td>\n",
       "      <td>[rt, tradingroomapp, bitcoin, next, btc, smash...</td>\n",
       "    </tr>\n",
       "  </tbody>\n",
       "</table>\n",
       "</div>"
      ],
      "text/plain": [
       "   Unnamed: 0  Unnamed: 0.1                      tweet_date  \\\n",
       "0         239           239  Wed Jul 18 06:30:20 +0000 2018   \n",
       "\n",
       "              tweet_id                                         tweet_text  \\\n",
       "0  1019469400934703104  RT @tradingroomapp: #Bitcoin what next?\\n\\n$BT...   \n",
       "\n",
       "  lang  retweet  tweet_url  tweet_reply  \\\n",
       "0   en    False      False        False   \n",
       "\n",
       "                                       hashes  \\\n",
       "0  [{'text': 'Bitcoin', 'indices': [20, 28]}]   \n",
       "\n",
       "                           user_name      screen_name  user_verified  \\\n",
       "0  Coin [shreds every coin] Shredder  ShredderSupport          False   \n",
       "\n",
       "  user_lang regex_matches  length  \\\n",
       "0        en      ['$BTC']     140   \n",
       "\n",
       "                                              tokens  \n",
       "0  [rt, tradingroomapp, bitcoin, next, btc, smash...  "
      ]
     },
     "execution_count": 17,
     "metadata": {},
     "output_type": "execute_result"
    }
   ],
   "source": [
    "# quick processing pipeline to prepare the tweets into tokens\n",
    "pipeline = [str.lower, tokenize, remove_stop]\n",
    "\n",
    "tweets['tokens'] = tweets['tweet_text'].apply(prepare, pipeline=pipeline)\n",
    "tweets.head(1)"
   ]
  },
  {
   "cell_type": "code",
   "execution_count": 18,
   "metadata": {},
   "outputs": [
    {
     "data": {
      "text/html": [
       "<div>\n",
       "<style scoped>\n",
       "    .dataframe tbody tr th:only-of-type {\n",
       "        vertical-align: middle;\n",
       "    }\n",
       "\n",
       "    .dataframe tbody tr th {\n",
       "        vertical-align: top;\n",
       "    }\n",
       "\n",
       "    .dataframe thead th {\n",
       "        text-align: right;\n",
       "    }\n",
       "</style>\n",
       "<table border=\"1\" class=\"dataframe\">\n",
       "  <thead>\n",
       "    <tr style=\"text-align: right;\">\n",
       "      <th></th>\n",
       "      <th>Unnamed: 0</th>\n",
       "      <th>Unnamed: 0.1</th>\n",
       "      <th>tweet_date</th>\n",
       "      <th>tweet_id</th>\n",
       "      <th>tweet_text</th>\n",
       "      <th>lang</th>\n",
       "      <th>retweet</th>\n",
       "      <th>tweet_url</th>\n",
       "      <th>tweet_reply</th>\n",
       "      <th>hashes</th>\n",
       "      <th>user_name</th>\n",
       "      <th>screen_name</th>\n",
       "      <th>user_verified</th>\n",
       "      <th>user_lang</th>\n",
       "      <th>regex_matches</th>\n",
       "      <th>length</th>\n",
       "      <th>tokens</th>\n",
       "      <th>num_tokens</th>\n",
       "    </tr>\n",
       "  </thead>\n",
       "  <tbody>\n",
       "    <tr>\n",
       "      <th>38350</th>\n",
       "      <td>282326</td>\n",
       "      <td>282326</td>\n",
       "      <td>Mon Jul 02 14:32:58 +0000 2018</td>\n",
       "      <td>1013792653731745792</td>\n",
       "      <td>Bioanalytical Systems acquires Seventh Wave La...</td>\n",
       "      <td>en</td>\n",
       "      <td>False</td>\n",
       "      <td>True</td>\n",
       "      <td>False</td>\n",
       "      <td>[]</td>\n",
       "      <td>Breaking News</td>\n",
       "      <td>MarketCurrents</td>\n",
       "      <td>False</td>\n",
       "      <td>en</td>\n",
       "      <td>['$BASI']</td>\n",
       "      <td>112</td>\n",
       "      <td>[bioanalytical, systems, acquires, seventh, wa...</td>\n",
       "      <td>13</td>\n",
       "    </tr>\n",
       "  </tbody>\n",
       "</table>\n",
       "</div>"
      ],
      "text/plain": [
       "       Unnamed: 0  Unnamed: 0.1                      tweet_date  \\\n",
       "38350      282326        282326  Mon Jul 02 14:32:58 +0000 2018   \n",
       "\n",
       "                  tweet_id                                         tweet_text  \\\n",
       "38350  1013792653731745792  Bioanalytical Systems acquires Seventh Wave La...   \n",
       "\n",
       "      lang  retweet  tweet_url  tweet_reply hashes      user_name  \\\n",
       "38350   en    False       True        False     []  Breaking News   \n",
       "\n",
       "          screen_name  user_verified user_lang regex_matches  length  \\\n",
       "38350  MarketCurrents          False        en     ['$BASI']     112   \n",
       "\n",
       "                                                  tokens  num_tokens  \n",
       "38350  [bioanalytical, systems, acquires, seventh, wa...          13  "
      ]
     },
     "execution_count": 18,
     "metadata": {},
     "output_type": "execute_result"
    }
   ],
   "source": [
    "# get number of tokens per tweets\n",
    "tweets['num_tokens'] = tweets['tokens'].map(len)\n",
    "tweets.sample(1)"
   ]
  },
  {
   "cell_type": "code",
   "execution_count": 19,
   "metadata": {},
   "outputs": [
    {
     "data": {
      "text/plain": [
       "[('co', 30432),\n",
       " ('https', 30377),\n",
       " ('rt', 16866),\n",
       " ('trx', 6861),\n",
       " ('tron', 3327),\n",
       " ('justinsuntron', 3267),\n",
       " ('btc', 3241),\n",
       " ('amp', 2725),\n",
       " ('inc', 2347),\n",
       " ('new', 2334)]"
      ]
     },
     "execution_count": 19,
     "metadata": {},
     "output_type": "execute_result"
    }
   ],
   "source": [
    "# top ten most comment tokens\n",
    "token_counter = Counter()\n",
    "tweets['tokens'].map(token_counter.update)\n",
    "token_counter.most_common(10)"
   ]
  },
  {
   "cell_type": "code",
   "execution_count": 7,
   "metadata": {},
   "outputs": [],
   "source": [
    "# reformat the regex_matches column so that each item in the column is its own list\n",
    "new_format = [None] * len(tweets['regex_matches'])\n",
    "\n",
    "for i in range(len(tweets['regex_matches'])):\n",
    "    new_format[i] = (tweets['regex_matches'].iloc[i].strip(\"[]''\"))\n",
    "\n",
    "tweets['regex_matches'] = new_format"
   ]
  },
  {
   "cell_type": "code",
   "execution_count": 21,
   "metadata": {},
   "outputs": [
    {
     "data": {
      "text/html": [
       "<div>\n",
       "<style scoped>\n",
       "    .dataframe tbody tr th:only-of-type {\n",
       "        vertical-align: middle;\n",
       "    }\n",
       "\n",
       "    .dataframe tbody tr th {\n",
       "        vertical-align: top;\n",
       "    }\n",
       "\n",
       "    .dataframe thead th {\n",
       "        text-align: right;\n",
       "    }\n",
       "</style>\n",
       "<table border=\"1\" class=\"dataframe\">\n",
       "  <thead>\n",
       "    <tr style=\"text-align: right;\">\n",
       "      <th></th>\n",
       "      <th>Unnamed: 0</th>\n",
       "      <th>Unnamed: 0.1</th>\n",
       "      <th>tweet_date</th>\n",
       "      <th>tweet_id</th>\n",
       "      <th>tweet_text</th>\n",
       "      <th>lang</th>\n",
       "      <th>retweet</th>\n",
       "      <th>tweet_url</th>\n",
       "      <th>tweet_reply</th>\n",
       "      <th>hashes</th>\n",
       "      <th>user_name</th>\n",
       "      <th>screen_name</th>\n",
       "      <th>user_verified</th>\n",
       "      <th>user_lang</th>\n",
       "      <th>regex_matches</th>\n",
       "      <th>length</th>\n",
       "      <th>tokens</th>\n",
       "      <th>num_tokens</th>\n",
       "    </tr>\n",
       "  </thead>\n",
       "  <tbody>\n",
       "    <tr>\n",
       "      <th>15711</th>\n",
       "      <td>561243</td>\n",
       "      <td>561243</td>\n",
       "      <td>Mon Jul 30 20:03:31 +0000 2018</td>\n",
       "      <td>1024022699608301568</td>\n",
       "      <td>$IRCArt.. Just saying @smoss 🤷🏽‍♀️ https://t.c...</td>\n",
       "      <td>en</td>\n",
       "      <td>False</td>\n",
       "      <td>False</td>\n",
       "      <td>False</td>\n",
       "      <td>[]</td>\n",
       "      <td>Vanna D.</td>\n",
       "      <td>iSongBird</td>\n",
       "      <td>False</td>\n",
       "      <td>en</td>\n",
       "      <td>$IRCArt</td>\n",
       "      <td>58</td>\n",
       "      <td>[ircart, saying, smoss, https, co, n8itdhgwww]</td>\n",
       "      <td>6</td>\n",
       "    </tr>\n",
       "  </tbody>\n",
       "</table>\n",
       "</div>"
      ],
      "text/plain": [
       "       Unnamed: 0  Unnamed: 0.1                      tweet_date  \\\n",
       "15711      561243        561243  Mon Jul 30 20:03:31 +0000 2018   \n",
       "\n",
       "                  tweet_id                                         tweet_text  \\\n",
       "15711  1024022699608301568  $IRCArt.. Just saying @smoss 🤷🏽‍♀️ https://t.c...   \n",
       "\n",
       "      lang  retweet  tweet_url  tweet_reply hashes user_name screen_name  \\\n",
       "15711   en    False      False        False     []  Vanna D.   iSongBird   \n",
       "\n",
       "       user_verified user_lang regex_matches  length  \\\n",
       "15711          False        en       $IRCArt      58   \n",
       "\n",
       "                                               tokens  num_tokens  \n",
       "15711  [ircart, saying, smoss, https, co, n8itdhgwww]           6  "
      ]
     },
     "execution_count": 21,
     "metadata": {},
     "output_type": "execute_result"
    }
   ],
   "source": [
    "tweets.sample(1)"
   ]
  },
  {
   "cell_type": "code",
   "execution_count": 22,
   "metadata": {},
   "outputs": [
    {
     "data": {
      "text/plain": [
       "[('$TRX', 3341),\n",
       " ('$AP', 1608),\n",
       " ('$BTC', 1180),\n",
       " ('$IBN', 476),\n",
       " ('$TSLA', 439),\n",
       " ('$AID', 353),\n",
       " ('$ign', 321),\n",
       " ('$FB', 298),\n",
       " ('$h', 274),\n",
       " ('$PAC', 260)]"
      ]
     },
     "execution_count": 22,
     "metadata": {},
     "output_type": "execute_result"
    }
   ],
   "source": [
    "# top ten regex_matches / cashtags\n",
    "cashtag_counter = Counter()\n",
    "for i in tweets['regex_matches']:\n",
    "    cashtag_counter.update({i:1})\n",
    "cashtag_counter.most_common(10)"
   ]
  },
  {
   "cell_type": "code",
   "execution_count": 24,
   "metadata": {},
   "outputs": [
    {
     "data": {
      "text/plain": [
       "[('James29617', 473),\n",
       " ('The_CasualSmart', 445),\n",
       " ('MareaInformativ', 338),\n",
       " ('Fanob_stock', 327),\n",
       " ('mediasentiment', 296),\n",
       " ('mmahotstuff1', 292),\n",
       " ('west_moreland', 278),\n",
       " ('bibeypost_stock', 272),\n",
       " ('mrbillbrazil', 263),\n",
       " ('CFinancialNews', 257)]"
      ]
     },
     "execution_count": 24,
     "metadata": {},
     "output_type": "execute_result"
    }
   ],
   "source": [
    "# top ten screen names\n",
    "sn_counter = Counter()\n",
    "for i in tweets['screen_name']:\n",
    "    sn_counter.update({i:1})\n",
    "sn_counter.most_common(10)"
   ]
  },
  {
   "cell_type": "code",
   "execution_count": 25,
   "metadata": {},
   "outputs": [],
   "source": [
    "# word counter function that returns pandas DataFrame\n",
    "def count_words(df, column='tokens', preprocess=None, min_freq=2):\n",
    "    \n",
    "    # process tokens and update counter\n",
    "    def update(doc):\n",
    "        tokens = doc if preprocess is None else process(doc)\n",
    "        counter.update(tokens)\n",
    "    \n",
    "    # create counter and run through all data\n",
    "    counter = Counter()\n",
    "    df[column].map(update)\n",
    "    \n",
    "    # transform counter into a DataFrame\n",
    "    freq_df = pd.DataFrame.from_dict(counter, orient='index', columns=['freq'])\n",
    "    freq_df = freq_df.query('freq >= @min_freq')\n",
    "    freq_df.index.name = 'token'\n",
    "    \n",
    "    return freq_df.sort_values('freq', ascending=False)"
   ]
  },
  {
   "cell_type": "code",
   "execution_count": 26,
   "metadata": {},
   "outputs": [
    {
     "data": {
      "text/html": [
       "<div>\n",
       "<style scoped>\n",
       "    .dataframe tbody tr th:only-of-type {\n",
       "        vertical-align: middle;\n",
       "    }\n",
       "\n",
       "    .dataframe tbody tr th {\n",
       "        vertical-align: top;\n",
       "    }\n",
       "\n",
       "    .dataframe thead th {\n",
       "        text-align: right;\n",
       "    }\n",
       "</style>\n",
       "<table border=\"1\" class=\"dataframe\">\n",
       "  <thead>\n",
       "    <tr style=\"text-align: right;\">\n",
       "      <th></th>\n",
       "      <th>freq</th>\n",
       "    </tr>\n",
       "  </thead>\n",
       "  <tbody>\n",
       "    <tr>\n",
       "      <th>$BTC</th>\n",
       "      <td>1180</td>\n",
       "    </tr>\n",
       "  </tbody>\n",
       "</table>\n",
       "</div>"
      ],
      "text/plain": [
       "      freq\n",
       "$BTC  1180"
      ]
     },
     "execution_count": 26,
     "metadata": {},
     "output_type": "execute_result"
    }
   ],
   "source": [
    "cashtag_freq = pd.DataFrame.from_dict(cashtag_counter, orient='index', columns=['freq'])\n",
    "cashtag_freq.head(1)"
   ]
  },
  {
   "cell_type": "code",
   "execution_count": 27,
   "metadata": {},
   "outputs": [
    {
     "data": {
      "text/plain": [
       "<matplotlib.axes._subplots.AxesSubplot at 0x1e1cc7b9b08>"
      ]
     },
     "execution_count": 27,
     "metadata": {},
     "output_type": "execute_result"
    },
    {
     "data": {
      "image/png": "[encoded data removed]",
      "text/plain": [
       "<Figure size 1152x576 with 1 Axes>"
      ]
     },
     "metadata": {
      "needs_background": "light"
     },
     "output_type": "display_data"
    }
   ],
   "source": [
    "cashtag_freq.sort_values(by='freq', ascending=False).head(15).plot.barh(title='Top Cashtags', figsize=(16,8))"
   ]
  },
  {
   "cell_type": "code",
   "execution_count": 28,
   "metadata": {},
   "outputs": [],
   "source": [
    "# function to compute idf\n",
    "def compute_idf(df, column='tokens', preprocess=None, min_df=2):\n",
    "    \n",
    "    def update(doc):\n",
    "        tokens = doc if preprocess is None else preprocess(doc)\n",
    "        counter.update(set(tokens))\n",
    "    \n",
    "    # count tokens\n",
    "    counter = Counter()\n",
    "    df[column].map(update)\n",
    "    \n",
    "    # create DataFrame and compute idf\n",
    "    idf_df = pd.DataFrame.from_dict(counter, orient='index', columns=['df'])\n",
    "    idf_df = idf_df.query('df >= @min_df')\n",
    "    idf_df['idf'] = np.log(len(df) / idf_df['df']) + 0.1\n",
    "    idf_df.index.name = 'token'\n",
    "    return idf_df"
   ]
  },
  {
   "cell_type": "code",
   "execution_count": 30,
   "metadata": {},
   "outputs": [
    {
     "name": "stderr",
     "output_type": "stream",
     "text": [
      "C:\\Users\\ckell\\AppData\\Local\\Continuum\\anaconda3\\envs\\tf2\\lib\\site-packages\\ipykernel_launcher.py:15: SettingWithCopyWarning: \n",
      "A value is trying to be set on a copy of a slice from a DataFrame.\n",
      "Try using .loc[row_indexer,col_indexer] = value instead\n",
      "\n",
      "See the caveats in the documentation: http://pandas.pydata.org/pandas-docs/stable/user_guide/indexing.html#returning-a-view-versus-a-copy\n",
      "  from ipykernel import kernelapp as app\n"
     ]
    },
    {
     "data": {
      "text/plain": [
       "(20342, 2)"
      ]
     },
     "execution_count": 30,
     "metadata": {},
     "output_type": "execute_result"
    }
   ],
   "source": [
    "# compute idf\n",
    "idf_df = compute_idf(tweets)\n",
    "idf_df.shape"
   ]
  },
  {
   "cell_type": "code",
   "execution_count": 31,
   "metadata": {},
   "outputs": [],
   "source": [
    "# compute tf-idf\n",
    "freq_df = count_words(tweets)\n",
    "freq_df['tfidf'] = freq_df['freq'] * idf_df['idf']"
   ]
  },
  {
   "cell_type": "code",
   "execution_count": 35,
   "metadata": {},
   "outputs": [
    {
     "data": {
      "text/plain": [
       "<matplotlib.axes._subplots.AxesSubplot at 0x1e1ce9ebe48>"
      ]
     },
     "execution_count": 35,
     "metadata": {},
     "output_type": "execute_result"
    },
    {
     "data": {
      "image/png": "[encoded data removed]",
      "text/plain": [
       "<Figure size 1152x576 with 1 Axes>"
      ]
     },
     "metadata": {
      "needs_background": "light"
     },
     "output_type": "display_data"
    }
   ],
   "source": [
    "freq_df.sort_values(by='tfidf', ascending=False).head(15).plot.barh(title='Top Tokens by TF-IDF', figsize=(16,8))"
   ]
  },
  {
   "cell_type": "markdown",
   "metadata": {},
   "source": [
    "Looking at the top results makes me feel pretty good about the quality of the dataset. Once I do some cleanup (remove words/tokens like https, co, rt, etc.), I'm left with the symbols for companies (trx, tron, inc) and finance related terms (earnings, price, justinsuntron (the creator of a crytocurrency))."
   ]
  },
  {
   "cell_type": "code",
   "execution_count": 37,
   "metadata": {},
   "outputs": [],
   "source": [
    "# function to create ngrams\n",
    "def ngrams(tokens, n=2, sep=' ', stopwords=set()):\n",
    "    return [sep.join(ngram) for ngram in zip(*[tokens[i:] for i in range(n)])\n",
    "               if len([t for t in ngram if t in stopwords])==0]"
   ]
  },
  {
   "cell_type": "code",
   "execution_count": 38,
   "metadata": {},
   "outputs": [],
   "source": [
    "# get bigrams from the tweet dataset\n",
    "tweets['bigrams'] = tweets['tweet_text'].apply(prepare, pipeline=[str.lower, tokenize]) \\\n",
    "                                        .apply(ngrams, n=2, stopwords=stopwords)"
   ]
  },
  {
   "cell_type": "code",
   "execution_count": 40,
   "metadata": {},
   "outputs": [
    {
     "data": {
      "text/plain": [
       "<matplotlib.axes._subplots.AxesSubplot at 0x1e1d1e14e48>"
      ]
     },
     "execution_count": 40,
     "metadata": {},
     "output_type": "execute_result"
    },
    {
     "data": {
      "image/png": "[encoded data removed]",
      "text/plain": [
       "<Figure size 1152x576 with 1 Axes>"
      ]
     },
     "metadata": {
      "needs_background": "light"
     },
     "output_type": "display_data"
    }
   ],
   "source": [
    "count_words(tweets, 'bigrams').head(15).plot.barh(title='Top Bi-grams', figsize=(16,8))"
   ]
  },
  {
   "cell_type": "markdown",
   "metadata": {},
   "source": [
    "# Data Cleaning"
   ]
  },
  {
   "cell_type": "code",
   "execution_count": 66,
   "metadata": {},
   "outputs": [],
   "source": [
    "# use regex to test for special characters/noise\n",
    "RE_SUSPICOUS = re.compile(r'[&<>{}\\[\\]\\\\]')\n",
    "\n",
    "# fuction to compute what percentage of the tweet is noise, based on the regex filter\n",
    "def impurity(text, min_len=10):\n",
    "    if text == None or len(text) < min_len:\n",
    "        return 0\n",
    "    else:\n",
    "        return len(RE_SUSPICOUS.findall(text))/len(text)"
   ]
  },
  {
   "cell_type": "code",
   "execution_count": 67,
   "metadata": {},
   "outputs": [
    {
     "data": {
      "text/plain": [
       "13420    0.100000\n",
       "10100    0.085714\n",
       "36309    0.085106\n",
       "9026     0.075758\n",
       "15954    0.074468\n",
       "4591     0.074468\n",
       "5376     0.071429\n",
       "20237    0.070588\n",
       "3662     0.063830\n",
       "6291     0.060606\n",
       "13606    0.059172\n",
       "38778    0.058824\n",
       "13348    0.056604\n",
       "12851    0.054264\n",
       "12852    0.053030\n",
       "24670    0.051471\n",
       "4702     0.051095\n",
       "28280    0.050000\n",
       "24381    0.049505\n",
       "5892     0.049505\n",
       "Name: tweet_text, dtype: float64"
      ]
     },
     "execution_count": 67,
     "metadata": {},
     "output_type": "execute_result"
    }
   ],
   "source": [
    "# top 20 tweets with the highest percentage of noise\n",
    "tweets['tweet_text'].apply(impurity, min_len=10).sort_values(ascending=False).head(20)"
   ]
  },
  {
   "cell_type": "code",
   "execution_count": 49,
   "metadata": {},
   "outputs": [
    {
     "data": {
      "text/plain": [
       "'RT @_Unleash_Fury_: #Overwatch #LIVEstream is ON @Twitch!\\n\\n[]\\\\[]O[]\\\\[]-$TO[]D Expert #Competitive Matches @_Unleash_Fury_\\n\\nhttps://t.co/Jlo…'"
      ]
     },
     "execution_count": 49,
     "metadata": {},
     "output_type": "execute_result"
    }
   ],
   "source": [
    "# text of the tweet that has one of the highest percentage of noise\n",
    "tweets.iloc[10100].tweet_text"
   ]
  },
  {
   "cell_type": "code",
   "execution_count": 68,
   "metadata": {},
   "outputs": [],
   "source": [
    "# add the \"impurity score\" to the main DataFrame\n",
    "tweets['impurity'] = tweets['tweet_text'].apply(impurity, min_len=10)"
   ]
  },
  {
   "cell_type": "code",
   "execution_count": 69,
   "metadata": {},
   "outputs": [
    {
     "data": {
      "text/html": [
       "<div>\n",
       "<style scoped>\n",
       "    .dataframe tbody tr th:only-of-type {\n",
       "        vertical-align: middle;\n",
       "    }\n",
       "\n",
       "    .dataframe tbody tr th {\n",
       "        vertical-align: top;\n",
       "    }\n",
       "\n",
       "    .dataframe thead th {\n",
       "        text-align: right;\n",
       "    }\n",
       "</style>\n",
       "<table border=\"1\" class=\"dataframe\">\n",
       "  <thead>\n",
       "    <tr style=\"text-align: right;\">\n",
       "      <th></th>\n",
       "      <th>tweet_text</th>\n",
       "      <th>impurity</th>\n",
       "    </tr>\n",
       "  </thead>\n",
       "  <tbody>\n",
       "    <tr>\n",
       "      <th>13420</th>\n",
       "      <td>$AMRN strong move &amp;gt;&amp;gt;&amp;gt;</td>\n",
       "      <td>0.100000</td>\n",
       "    </tr>\n",
       "    <tr>\n",
       "      <th>10100</th>\n",
       "      <td>RT @_Unleash_Fury_: #Overwatch #LIVEstream is ON @Twitch!\\n\\n[]\\[]O[]\\[]-$TO[]D Expert #Competitive Matches @_Unleash_Fury_\\n\\nhttps://t.co/Jlo…</td>\n",
       "      <td>0.085714</td>\n",
       "    </tr>\n",
       "    <tr>\n",
       "      <th>36309</th>\n",
       "      <td>ty dolla $ign part on anything &amp;gt;&amp;gt;&amp;gt;&amp;gt;</td>\n",
       "      <td>0.085106</td>\n",
       "    </tr>\n",
       "    <tr>\n",
       "      <th>9026</th>\n",
       "      <td>Purity by A$AP feat. Frank Ocean &amp;gt;&amp;gt;&amp;gt;&amp;gt;&amp;gt; ur fave song</td>\n",
       "      <td>0.075758</td>\n",
       "    </tr>\n",
       "    <tr>\n",
       "      <th>15954</th>\n",
       "      <td>RT @ErnieGnc: Mood:  A$AP Rocky &amp;amp; Rihanna &amp;gt;&amp;gt;&amp;gt;&amp;gt;&amp;gt;&amp;gt; https://t.co/5IqsF2j9bB</td>\n",
       "      <td>0.074468</td>\n",
       "    </tr>\n",
       "  </tbody>\n",
       "</table>\n",
       "</div>"
      ],
      "text/plain": [
       "                                                                                                                                             tweet_text  \\\n",
       "13420                                                                                                                    $AMRN strong move &gt;&gt;&gt;   \n",
       "10100  RT @_Unleash_Fury_: #Overwatch #LIVEstream is ON @Twitch!\\n\\n[]\\[]O[]\\[]-$TO[]D Expert #Competitive Matches @_Unleash_Fury_\\n\\nhttps://t.co/Jlo…   \n",
       "36309                                                                                                   ty dolla $ign part on anything &gt;&gt;&gt;&gt;   \n",
       "9026                                                                                 Purity by A$AP feat. Frank Ocean &gt;&gt;&gt;&gt;&gt; ur fave song   \n",
       "15954                                                    RT @ErnieGnc: Mood:  A$AP Rocky &amp; Rihanna &gt;&gt;&gt;&gt;&gt;&gt; https://t.co/5IqsF2j9bB   \n",
       "\n",
       "       impurity  \n",
       "13420  0.100000  \n",
       "10100  0.085714  \n",
       "36309  0.085106  \n",
       "9026   0.075758  \n",
       "15954  0.074468  "
      ]
     },
     "execution_count": 69,
     "metadata": {},
     "output_type": "execute_result"
    }
   ],
   "source": [
    "# look at the five noisiest tweets\n",
    "pd.set_option('max_colwidth', 300)\n",
    "tweets[['tweet_text', 'impurity']].sort_values(by='impurity', ascending=False).head()"
   ]
  },
  {
   "cell_type": "code",
   "execution_count": 98,
   "metadata": {},
   "outputs": [],
   "source": [
    "# function to clean up text\n",
    "def clean(text):\n",
    "    # convert html escapes to characters\n",
    "    text = html.unescape(text)\n",
    "    # convert tags\n",
    "    text = re.sub(r'<[^<>]*>', ' ', text)\n",
    "    # convert web links to the string 'URL'\n",
    "#     text = re.sub(r'\\[([^\\[\\]]*)\\]\\([^\\(\\)]*\\)', 'URL', text)\n",
    "    text = re.sub(r'https:\\S+', 'URL', text)\n",
    "    # replace text in square brackets with a space\n",
    "    text = re.sub(r'\\[[^\\[\\]]*\\]', ' ', text)\n",
    "    # replace stand along special characters, but not hashtags or cashtags\n",
    "    text = re.sub(r'(?:^|\\s)[&#<>{}\\[\\]+|\\\\:-]{1,}(?:\\s|$)', ' ', text)\n",
    "    text = re.sub(r'[@%&]+', ' ', text)\n",
    "    # replace sequences of certain standalone characters\n",
    "    text = re.sub(r'(?:^|\\s)[\\-=\\+]{2,}(?:\\s|$)', ' ', text)\n",
    "    text = re.sub(r'>+', ' ', text)\n",
    "    text = re.sub(r'<+', ' ', text)\n",
    "    text = re.sub(r'(\\+)', ' ', text)\n",
    "    \n",
    "    # replace sequences of whitespace with one space\n",
    "    text = re.sub(r'\\s+', ' ', text)\n",
    "    # remove leading and trailing whitespace\n",
    "    return text.strip()"
   ]
  },
  {
   "cell_type": "code",
   "execution_count": 99,
   "metadata": {},
   "outputs": [
    {
     "data": {
      "text/html": [
       "<div>\n",
       "<style scoped>\n",
       "    .dataframe tbody tr th:only-of-type {\n",
       "        vertical-align: middle;\n",
       "    }\n",
       "\n",
       "    .dataframe tbody tr th {\n",
       "        vertical-align: top;\n",
       "    }\n",
       "\n",
       "    .dataframe thead th {\n",
       "        text-align: right;\n",
       "    }\n",
       "</style>\n",
       "<table border=\"1\" class=\"dataframe\">\n",
       "  <thead>\n",
       "    <tr style=\"text-align: right;\">\n",
       "      <th></th>\n",
       "      <th>clean_text</th>\n",
       "      <th>impurity</th>\n",
       "    </tr>\n",
       "  </thead>\n",
       "  <tbody>\n",
       "    <tr>\n",
       "      <th>14183</th>\n",
       "      <td>curl -sk URL perl -nle '$f=0; for(m/functions\\/(.*?).html/gi){$f++}; $t +=$f; END{ print $t }… URL</td>\n",
       "      <td>0.051020</td>\n",
       "    </tr>\n",
       "    <tr>\n",
       "      <th>17903</th>\n",
       "      <td>RT RamBlush: *Follow retweet LIKE $PAC :*\"}{</td>\n",
       "      <td>0.045455</td>\n",
       "    </tr>\n",
       "    <tr>\n",
       "      <th>17010</th>\n",
       "      <td>RT RamBlush: *Follow retweet LIKE $PAC :*\"}{</td>\n",
       "      <td>0.045455</td>\n",
       "    </tr>\n",
       "    <tr>\n",
       "      <th>12852</th>\n",
       "      <td>Roel Aaij, Rolf Andreassen et al.: Test of lepton universality using $B^{+}\\right... URL</td>\n",
       "      <td>0.034091</td>\n",
       "    </tr>\n",
       "    <tr>\n",
       "      <th>12851</th>\n",
       "      <td>Takeo Kojima: Diagonalization of transfer matrix of supersymmetry $u_q(\\hat{sl}(m... URL</td>\n",
       "      <td>0.034091</td>\n",
       "    </tr>\n",
       "  </tbody>\n",
       "</table>\n",
       "</div>"
      ],
      "text/plain": [
       "                                                                                               clean_text  \\\n",
       "14183  curl -sk URL perl -nle '$f=0; for(m/functions\\/(.*?).html/gi){$f++}; $t +=$f; END{ print $t }… URL   \n",
       "17903                                                        RT RamBlush: *Follow retweet LIKE $PAC :*\"}{   \n",
       "17010                                                        RT RamBlush: *Follow retweet LIKE $PAC :*\"}{   \n",
       "12852            Roel Aaij, Rolf Andreassen et al.: Test of lepton universality using $B^{+}\\right... URL   \n",
       "12851            Takeo Kojima: Diagonalization of transfer matrix of supersymmetry $u_q(\\hat{sl}(m... URL   \n",
       "\n",
       "       impurity  \n",
       "14183  0.051020  \n",
       "17903  0.045455  \n",
       "17010  0.045455  \n",
       "12852  0.034091  \n",
       "12851  0.034091  "
      ]
     },
     "execution_count": 99,
     "metadata": {},
     "output_type": "execute_result"
    }
   ],
   "source": [
    "# add a new column with the clean text, update impurity based on cleaned text\n",
    "tweets['clean_text'] = tweets['tweet_text'].map(clean)\n",
    "tweets['impurity'] = tweets['clean_text'].apply(impurity, min_len=10)\n",
    "tweets[['clean_text', 'impurity']].sort_values(by='impurity', ascending=False).head()"
   ]
  },
  {
   "cell_type": "code",
   "execution_count": 100,
   "metadata": {},
   "outputs": [],
   "source": [
    "t = tweets[['clean_text', 'impurity']].sort_values(by='impurity', ascending=False).head()"
   ]
  },
  {
   "cell_type": "code",
   "execution_count": 101,
   "metadata": {},
   "outputs": [
    {
     "data": {
      "text/html": [
       "<div>\n",
       "<style scoped>\n",
       "    .dataframe tbody tr th:only-of-type {\n",
       "        vertical-align: middle;\n",
       "    }\n",
       "\n",
       "    .dataframe tbody tr th {\n",
       "        vertical-align: top;\n",
       "    }\n",
       "\n",
       "    .dataframe thead th {\n",
       "        text-align: right;\n",
       "    }\n",
       "</style>\n",
       "<table border=\"1\" class=\"dataframe\">\n",
       "  <thead>\n",
       "    <tr style=\"text-align: right;\">\n",
       "      <th></th>\n",
       "      <th>clean_text</th>\n",
       "      <th>impurity</th>\n",
       "    </tr>\n",
       "  </thead>\n",
       "  <tbody>\n",
       "    <tr>\n",
       "      <th>14183</th>\n",
       "      <td>curl -sk URL perl -nle '$f=0; for(m/functions\\/(.*?).html/gi){$f++}; $t +=$f; END{ print $t }… URL</td>\n",
       "      <td>0.051020</td>\n",
       "    </tr>\n",
       "    <tr>\n",
       "      <th>17903</th>\n",
       "      <td>RT RamBlush: *Follow retweet LIKE $PAC :*\"}{</td>\n",
       "      <td>0.045455</td>\n",
       "    </tr>\n",
       "    <tr>\n",
       "      <th>17010</th>\n",
       "      <td>RT RamBlush: *Follow retweet LIKE $PAC :*\"}{</td>\n",
       "      <td>0.045455</td>\n",
       "    </tr>\n",
       "    <tr>\n",
       "      <th>12852</th>\n",
       "      <td>Roel Aaij, Rolf Andreassen et al.: Test of lepton universality using $B^{+}\\right... URL</td>\n",
       "      <td>0.034091</td>\n",
       "    </tr>\n",
       "    <tr>\n",
       "      <th>12851</th>\n",
       "      <td>Takeo Kojima: Diagonalization of transfer matrix of supersymmetry $u_q(\\hat{sl}(m... URL</td>\n",
       "      <td>0.034091</td>\n",
       "    </tr>\n",
       "  </tbody>\n",
       "</table>\n",
       "</div>"
      ],
      "text/plain": [
       "                                                                                               clean_text  \\\n",
       "14183  curl -sk URL perl -nle '$f=0; for(m/functions\\/(.*?).html/gi){$f++}; $t +=$f; END{ print $t }… URL   \n",
       "17903                                                        RT RamBlush: *Follow retweet LIKE $PAC :*\"}{   \n",
       "17010                                                        RT RamBlush: *Follow retweet LIKE $PAC :*\"}{   \n",
       "12852            Roel Aaij, Rolf Andreassen et al.: Test of lepton universality using $B^{+}\\right... URL   \n",
       "12851            Takeo Kojima: Diagonalization of transfer matrix of supersymmetry $u_q(\\hat{sl}(m... URL   \n",
       "\n",
       "       impurity  \n",
       "14183  0.051020  \n",
       "17903  0.045455  \n",
       "17010  0.045455  \n",
       "12852  0.034091  \n",
       "12851  0.034091  "
      ]
     },
     "execution_count": 101,
     "metadata": {},
     "output_type": "execute_result"
    }
   ],
   "source": [
    "t"
   ]
  },
  {
   "cell_type": "code",
   "execution_count": 108,
   "metadata": {},
   "outputs": [
    {
     "data": {
      "text/plain": [
       "\"curl -sk URL perl -nle '$f=0; for(m/functions\\\\/(.*?).html/gi){$f  }; $t  =$f; END{ print $t }… URL\""
      ]
     },
     "execution_count": 108,
     "metadata": {},
     "output_type": "execute_result"
    }
   ],
   "source": [
    "re.sub(r'(\\+)', ' ', t['clean_text'].iloc[0])"
   ]
  },
  {
   "cell_type": "markdown",
   "metadata": {},
   "source": [
    "# Preprocessing "
   ]
  },
  {
   "cell_type": "code",
   "execution_count": 4,
   "metadata": {},
   "outputs": [],
   "source": [
    "# function to normalize text - I'm using pretty much all of textacy's pre-processing functions since Twitter data\n",
    "# is pretty messy\n",
    "def normalize(text):\n",
    "    text = html.unescape(text)\n",
    "    text = tprep.normalize_hyphenated_words(text)\n",
    "    text = tprep.normalize_quotation_marks(text)\n",
    "    text = tprep.normalize_unicode(text)\n",
    "    text = tprep.normalize_whitespace(text)\n",
    "    text = tprep.remove_accents(text)\n",
    "    text = tprep.replace_emails(text)\n",
    "    text = tprep.replace_urls(text)\n",
    "    return text.lower()"
   ]
  },
  {
   "cell_type": "code",
   "execution_count": 5,
   "metadata": {},
   "outputs": [
    {
     "data": {
      "text/plain": [
       "28507    people spreading fud about $zcl are the ones w...\n",
       "Name: normalized_text, dtype: object"
      ]
     },
     "execution_count": 5,
     "metadata": {},
     "output_type": "execute_result"
    }
   ],
   "source": [
    "# add new column with normalized text\n",
    "tweets['normalized_text'] = tweets['tweet_text'].apply(normalize)\n",
    "tweets['normalized_text'].sample(1)"
   ]
  },
  {
   "cell_type": "code",
   "execution_count": 23,
   "metadata": {},
   "outputs": [
    {
     "data": {
      "text/plain": [
       "0    rt @tradingroomapp: #bitcoin what next?\\n$btc smashed through minor resistance to test the broken trendline/100 dma area. we have booked pr...\n",
       "1    fidus investment corp $fdus receives consensus rating of \"hold\" from brokerages _url_                                                         \n",
       "2    the coca-cola $ko to release quarterly earnings on wednesday _url_                                                                            \n",
       "3    home bancshares inc forecasted to post q3 2018 earnings of $0.46 per share $homb _url_ #markets                                               \n",
       "4    intec pharma ltd $ntec given consensus rating of \"buy\" by analysts _url_                                                                      \n",
       "5    $gne #genesis energy morningstar | genesis energy is a diversified energy company with a mix of renewable and therm... _url_                  \n",
       "6    fidus investment corp $fdus given consensus rating of \"hold\" by analysts _url_                                                                \n",
       "7    rt @fruitbasegod: healing tantric rich $ex magik or none at all. _url_                                                                        \n",
       "8    rt @thewolfofalts: this looks awesome! $ion $xdm $btc $eth _url_                                                                              \n",
       "9    hope bancorp inc to post fy2018 earnings of $1.52 per share, wedbush forecasts $hope _url_                                                    \n",
       "Name: normalized_text, dtype: object"
      ]
     },
     "execution_count": 23,
     "metadata": {},
     "output_type": "execute_result"
    }
   ],
   "source": [
    "pd.set_option('max_colwidth',1)\n",
    "tweets['normalized_text'].head(10)"
   ]
  },
  {
   "cell_type": "code",
   "execution_count": 24,
   "metadata": {},
   "outputs": [
    {
     "data": {
      "text/plain": [
       "['rt',\n",
       " '@tradingroomapp',\n",
       " ':',\n",
       " '#bitcoin',\n",
       " 'what',\n",
       " 'next',\n",
       " '?',\n",
       " '$',\n",
       " 'btc',\n",
       " 'smashed',\n",
       " 'through',\n",
       " 'minor',\n",
       " 'resistance',\n",
       " 'to',\n",
       " 'test',\n",
       " 'the',\n",
       " 'broken',\n",
       " 'trendline',\n",
       " '/',\n",
       " '100',\n",
       " 'dma',\n",
       " 'area',\n",
       " '.',\n",
       " 'we',\n",
       " 'have',\n",
       " 'booked',\n",
       " 'pr',\n",
       " '...']"
      ]
     },
     "execution_count": 24,
     "metadata": {},
     "output_type": "execute_result"
    }
   ],
   "source": [
    "# tokenization with nltk\n",
    "tokenizer = nltk.tokenize.TweetTokenizer()\n",
    "tweets['nltk_tokens'] "
   ]
  },
  {
   "cell_type": "code",
   "execution_count": 27,
   "metadata": {},
   "outputs": [
    {
     "data": {
      "text/plain": [
       "[('tok2vec', <spacy.pipeline.tok2vec.Tok2Vec at 0x238c546f1c8>),\n",
       " ('tagger', <spacy.pipeline.tagger.Tagger at 0x238c546fd68>),\n",
       " ('parser', <spacy.pipeline.dep_parser.DependencyParser at 0x238c51a0dd8>),\n",
       " ('ner', <spacy.pipeline.ner.EntityRecognizer at 0x238c51a0f28>),\n",
       " ('attribute_ruler',\n",
       "  <spacy.pipeline.attributeruler.AttributeRuler at 0x238c546e348>),\n",
       " ('lemmatizer', <spacy.lang.en.lemmatizer.EnglishLemmatizer at 0x238c5489288>)]"
      ]
     },
     "execution_count": 27,
     "metadata": {},
     "output_type": "execute_result"
    }
   ],
   "source": [
    "nlp = spacy.load('en_core_web_sm')\n",
    "nlp.pipeline"
   ]
  },
  {
   "cell_type": "code",
   "execution_count": 50,
   "metadata": {},
   "outputs": [],
   "source": [
    "doc = nlp(tweets['normalized_text'][100])"
   ]
  },
  {
   "cell_type": "code",
   "execution_count": 42,
   "metadata": {},
   "outputs": [
    {
     "name": "stdout",
     "output_type": "stream",
     "text": [
      "rt|@thewolfofalts|:|this|looks|awesome|!|$|ion|$|xdm|$|btc|$|eth|_|url|_|"
     ]
    }
   ],
   "source": [
    "for token in doc:\n",
    "    print(token, end='|')"
   ]
  },
  {
   "cell_type": "code",
   "execution_count": 36,
   "metadata": {},
   "outputs": [],
   "source": [
    "def display_nlp(doc, include_punct=False):\n",
    "    rows = []\n",
    "    for i, t in enumerate(doc):\n",
    "        if not t.is_punct or include_punct:\n",
    "            row = {'token': i, 'text':t.text, 'lemma_':t.lemma_, 'is_stop':t.is_stop, 'is_alpha':t.is_alpha, \n",
    "                   'pos_':t.pos_, 'dep_':t.dep_, 'sentiment':t.sentiment, 'ent_type_':t.ent_type_, \n",
    "                   'ent_iob_':t.ent_iob_}\n",
    "            rows.append(row)\n",
    "            \n",
    "    df = pd.DataFrame(rows).set_index('token')\n",
    "    df.index.name = None\n",
    "    return df"
   ]
  },
  {
   "cell_type": "code",
   "execution_count": 51,
   "metadata": {},
   "outputs": [
    {
     "data": {
      "text/html": [
       "<div>\n",
       "<style scoped>\n",
       "    .dataframe tbody tr th:only-of-type {\n",
       "        vertical-align: middle;\n",
       "    }\n",
       "\n",
       "    .dataframe tbody tr th {\n",
       "        vertical-align: top;\n",
       "    }\n",
       "\n",
       "    .dataframe thead th {\n",
       "        text-align: right;\n",
       "    }\n",
       "</style>\n",
       "<table border=\"1\" class=\"dataframe\">\n",
       "  <thead>\n",
       "    <tr style=\"text-align: right;\">\n",
       "      <th></th>\n",
       "      <th>text</th>\n",
       "      <th>lemma_</th>\n",
       "      <th>is_stop</th>\n",
       "      <th>is_alpha</th>\n",
       "      <th>pos_</th>\n",
       "      <th>dep_</th>\n",
       "      <th>sentiment</th>\n",
       "      <th>ent_type_</th>\n",
       "      <th>ent_iob_</th>\n",
       "    </tr>\n",
       "  </thead>\n",
       "  <tbody>\n",
       "    <tr>\n",
       "      <th>0</th>\n",
       "      <td>rt</td>\n",
       "      <td>rt</td>\n",
       "      <td>False</td>\n",
       "      <td>True</td>\n",
       "      <td>INTJ</td>\n",
       "      <td>ROOT</td>\n",
       "      <td>0.0</td>\n",
       "      <td></td>\n",
       "      <td>O</td>\n",
       "    </tr>\n",
       "    <tr>\n",
       "      <th>1</th>\n",
       "      <td>@kevynsmit</td>\n",
       "      <td>@kevynsmit</td>\n",
       "      <td>False</td>\n",
       "      <td>False</td>\n",
       "      <td>NOUN</td>\n",
       "      <td>ROOT</td>\n",
       "      <td>0.0</td>\n",
       "      <td></td>\n",
       "      <td>O</td>\n",
       "    </tr>\n",
       "    <tr>\n",
       "      <th>3</th>\n",
       "      <td>morning</td>\n",
       "      <td>morning</td>\n",
       "      <td>False</td>\n",
       "      <td>True</td>\n",
       "      <td>NOUN</td>\n",
       "      <td>npadvmod</td>\n",
       "      <td>0.0</td>\n",
       "      <td>TIME</td>\n",
       "      <td>B</td>\n",
       "    </tr>\n",
       "    <tr>\n",
       "      <th>5</th>\n",
       "      <td>\\n</td>\n",
       "      <td>\\n</td>\n",
       "      <td>False</td>\n",
       "      <td>False</td>\n",
       "      <td>SPACE</td>\n",
       "      <td>ROOT</td>\n",
       "      <td>0.0</td>\n",
       "      <td></td>\n",
       "      <td>O</td>\n",
       "    </tr>\n",
       "    <tr>\n",
       "      <th>6</th>\n",
       "      <td>i</td>\n",
       "      <td>I</td>\n",
       "      <td>True</td>\n",
       "      <td>True</td>\n",
       "      <td>PRON</td>\n",
       "      <td>nsubj</td>\n",
       "      <td>0.0</td>\n",
       "      <td></td>\n",
       "      <td>O</td>\n",
       "    </tr>\n",
       "    <tr>\n",
       "      <th>7</th>\n",
       "      <td>'ll</td>\n",
       "      <td>'ll</td>\n",
       "      <td>True</td>\n",
       "      <td>False</td>\n",
       "      <td>AUX</td>\n",
       "      <td>aux</td>\n",
       "      <td>0.0</td>\n",
       "      <td></td>\n",
       "      <td>O</td>\n",
       "    </tr>\n",
       "    <tr>\n",
       "      <th>8</th>\n",
       "      <td>take</td>\n",
       "      <td>take</td>\n",
       "      <td>True</td>\n",
       "      <td>True</td>\n",
       "      <td>VERB</td>\n",
       "      <td>ROOT</td>\n",
       "      <td>0.0</td>\n",
       "      <td></td>\n",
       "      <td>O</td>\n",
       "    </tr>\n",
       "    <tr>\n",
       "      <th>9</th>\n",
       "      <td>some</td>\n",
       "      <td>some</td>\n",
       "      <td>True</td>\n",
       "      <td>True</td>\n",
       "      <td>DET</td>\n",
       "      <td>det</td>\n",
       "      <td>0.0</td>\n",
       "      <td></td>\n",
       "      <td>O</td>\n",
       "    </tr>\n",
       "    <tr>\n",
       "      <th>10</th>\n",
       "      <td>requests</td>\n",
       "      <td>request</td>\n",
       "      <td>False</td>\n",
       "      <td>True</td>\n",
       "      <td>NOUN</td>\n",
       "      <td>dobj</td>\n",
       "      <td>0.0</td>\n",
       "      <td></td>\n",
       "      <td>O</td>\n",
       "    </tr>\n",
       "    <tr>\n",
       "      <th>11</th>\n",
       "      <td>in</td>\n",
       "      <td>in</td>\n",
       "      <td>True</td>\n",
       "      <td>True</td>\n",
       "      <td>ADP</td>\n",
       "      <td>prep</td>\n",
       "      <td>0.0</td>\n",
       "      <td></td>\n",
       "      <td>O</td>\n",
       "    </tr>\n",
       "    <tr>\n",
       "      <th>12</th>\n",
       "      <td>a</td>\n",
       "      <td>a</td>\n",
       "      <td>True</td>\n",
       "      <td>True</td>\n",
       "      <td>DET</td>\n",
       "      <td>det</td>\n",
       "      <td>0.0</td>\n",
       "      <td>TIME</td>\n",
       "      <td>B</td>\n",
       "    </tr>\n",
       "    <tr>\n",
       "      <th>13</th>\n",
       "      <td>few</td>\n",
       "      <td>few</td>\n",
       "      <td>True</td>\n",
       "      <td>True</td>\n",
       "      <td>ADJ</td>\n",
       "      <td>amod</td>\n",
       "      <td>0.0</td>\n",
       "      <td>TIME</td>\n",
       "      <td>I</td>\n",
       "    </tr>\n",
       "    <tr>\n",
       "      <th>14</th>\n",
       "      <td>hours</td>\n",
       "      <td>hour</td>\n",
       "      <td>False</td>\n",
       "      <td>True</td>\n",
       "      <td>NOUN</td>\n",
       "      <td>pobj</td>\n",
       "      <td>0.0</td>\n",
       "      <td>TIME</td>\n",
       "      <td>I</td>\n",
       "    </tr>\n",
       "    <tr>\n",
       "      <th>16</th>\n",
       "      <td>\\n</td>\n",
       "      <td>\\n</td>\n",
       "      <td>False</td>\n",
       "      <td>False</td>\n",
       "      <td>SPACE</td>\n",
       "      <td>punct</td>\n",
       "      <td>0.0</td>\n",
       "      <td></td>\n",
       "      <td>O</td>\n",
       "    </tr>\n",
       "    <tr>\n",
       "      <th>17</th>\n",
       "      <td>let</td>\n",
       "      <td>let</td>\n",
       "      <td>False</td>\n",
       "      <td>True</td>\n",
       "      <td>VERB</td>\n",
       "      <td>ROOT</td>\n",
       "      <td>0.0</td>\n",
       "      <td></td>\n",
       "      <td>O</td>\n",
       "    </tr>\n",
       "    <tr>\n",
       "      <th>18</th>\n",
       "      <td>'s</td>\n",
       "      <td>'s</td>\n",
       "      <td>True</td>\n",
       "      <td>False</td>\n",
       "      <td>PRON</td>\n",
       "      <td>nsubj</td>\n",
       "      <td>0.0</td>\n",
       "      <td></td>\n",
       "      <td>O</td>\n",
       "    </tr>\n",
       "    <tr>\n",
       "      <th>19</th>\n",
       "      <td>see</td>\n",
       "      <td>see</td>\n",
       "      <td>True</td>\n",
       "      <td>True</td>\n",
       "      <td>VERB</td>\n",
       "      <td>ccomp</td>\n",
       "      <td>0.0</td>\n",
       "      <td></td>\n",
       "      <td>O</td>\n",
       "    </tr>\n",
       "    <tr>\n",
       "      <th>20</th>\n",
       "      <td>what</td>\n",
       "      <td>what</td>\n",
       "      <td>True</td>\n",
       "      <td>True</td>\n",
       "      <td>PRON</td>\n",
       "      <td>nsubj</td>\n",
       "      <td>0.0</td>\n",
       "      <td></td>\n",
       "      <td>O</td>\n",
       "    </tr>\n",
       "    <tr>\n",
       "      <th>21</th>\n",
       "      <td>'s</td>\n",
       "      <td>be</td>\n",
       "      <td>True</td>\n",
       "      <td>False</td>\n",
       "      <td>AUX</td>\n",
       "      <td>aux</td>\n",
       "      <td>0.0</td>\n",
       "      <td></td>\n",
       "      <td>O</td>\n",
       "    </tr>\n",
       "    <tr>\n",
       "      <th>22</th>\n",
       "      <td>happening</td>\n",
       "      <td>happen</td>\n",
       "      <td>False</td>\n",
       "      <td>True</td>\n",
       "      <td>VERB</td>\n",
       "      <td>ccomp</td>\n",
       "      <td>0.0</td>\n",
       "      <td></td>\n",
       "      <td>O</td>\n",
       "    </tr>\n",
       "    <tr>\n",
       "      <th>23</th>\n",
       "      <td>while</td>\n",
       "      <td>while</td>\n",
       "      <td>True</td>\n",
       "      <td>True</td>\n",
       "      <td>SCONJ</td>\n",
       "      <td>mark</td>\n",
       "      <td>0.0</td>\n",
       "      <td></td>\n",
       "      <td>O</td>\n",
       "    </tr>\n",
       "    <tr>\n",
       "      <th>24</th>\n",
       "      <td>$</td>\n",
       "      <td>$</td>\n",
       "      <td>False</td>\n",
       "      <td>False</td>\n",
       "      <td>SYM</td>\n",
       "      <td>quantmod</td>\n",
       "      <td>0.0</td>\n",
       "      <td></td>\n",
       "      <td>O</td>\n",
       "    </tr>\n",
       "    <tr>\n",
       "      <th>25</th>\n",
       "      <td>btc</td>\n",
       "      <td>btc</td>\n",
       "      <td>False</td>\n",
       "      <td>True</td>\n",
       "      <td>NOUN</td>\n",
       "      <td>compound</td>\n",
       "      <td>0.0</td>\n",
       "      <td></td>\n",
       "      <td>O</td>\n",
       "    </tr>\n",
       "    <tr>\n",
       "      <th>26</th>\n",
       "      <td>deals</td>\n",
       "      <td>deal</td>\n",
       "      <td>False</td>\n",
       "      <td>True</td>\n",
       "      <td>NOUN</td>\n",
       "      <td>dobj</td>\n",
       "      <td>0.0</td>\n",
       "      <td></td>\n",
       "      <td>O</td>\n",
       "    </tr>\n",
       "    <tr>\n",
       "      <th>27</th>\n",
       "      <td>with</td>\n",
       "      <td>with</td>\n",
       "      <td>True</td>\n",
       "      <td>True</td>\n",
       "      <td>ADP</td>\n",
       "      <td>prep</td>\n",
       "      <td>0.0</td>\n",
       "      <td></td>\n",
       "      <td>O</td>\n",
       "    </tr>\n",
       "    <tr>\n",
       "      <th>28</th>\n",
       "      <td>this</td>\n",
       "      <td>this</td>\n",
       "      <td>True</td>\n",
       "      <td>True</td>\n",
       "      <td>DET</td>\n",
       "      <td>det</td>\n",
       "      <td>0.0</td>\n",
       "      <td></td>\n",
       "      <td>O</td>\n",
       "    </tr>\n",
       "    <tr>\n",
       "      <th>29</th>\n",
       "      <td>resistance</td>\n",
       "      <td>resistance</td>\n",
       "      <td>False</td>\n",
       "      <td>True</td>\n",
       "      <td>NOUN</td>\n",
       "      <td>pobj</td>\n",
       "      <td>0.0</td>\n",
       "      <td></td>\n",
       "      <td>O</td>\n",
       "    </tr>\n",
       "    <tr>\n",
       "      <th>30</th>\n",
       "      <td>at</td>\n",
       "      <td>at</td>\n",
       "      <td>True</td>\n",
       "      <td>True</td>\n",
       "      <td>ADP</td>\n",
       "      <td>prep</td>\n",
       "      <td>0.0</td>\n",
       "      <td></td>\n",
       "      <td>O</td>\n",
       "    </tr>\n",
       "    <tr>\n",
       "      <th>31</th>\n",
       "      <td>$</td>\n",
       "      <td>$</td>\n",
       "      <td>False</td>\n",
       "      <td>False</td>\n",
       "      <td>SYM</td>\n",
       "      <td>nmod</td>\n",
       "      <td>0.0</td>\n",
       "      <td></td>\n",
       "      <td>O</td>\n",
       "    </tr>\n",
       "    <tr>\n",
       "      <th>32</th>\n",
       "      <td>7400-</td>\n",
       "      <td>7400-</td>\n",
       "      <td>False</td>\n",
       "      <td>False</td>\n",
       "      <td>NOUN</td>\n",
       "      <td>pobj</td>\n",
       "      <td>0.0</td>\n",
       "      <td>MONEY</td>\n",
       "      <td>B</td>\n",
       "    </tr>\n",
       "  </tbody>\n",
       "</table>\n",
       "</div>"
      ],
      "text/plain": [
       "          text      lemma_  is_stop  is_alpha   pos_      dep_  sentiment  \\\n",
       "0   rt          rt          False    True      INTJ   ROOT      0.0         \n",
       "1   @kevynsmit  @kevynsmit  False    False     NOUN   ROOT      0.0         \n",
       "3   morning     morning     False    True      NOUN   npadvmod  0.0         \n",
       "5   \\n          \\n          False    False     SPACE  ROOT      0.0         \n",
       "6   i           I           True     True      PRON   nsubj     0.0         \n",
       "7   'll         'll         True     False     AUX    aux       0.0         \n",
       "8   take        take        True     True      VERB   ROOT      0.0         \n",
       "9   some        some        True     True      DET    det       0.0         \n",
       "10  requests    request     False    True      NOUN   dobj      0.0         \n",
       "11  in          in          True     True      ADP    prep      0.0         \n",
       "12  a           a           True     True      DET    det       0.0         \n",
       "13  few         few         True     True      ADJ    amod      0.0         \n",
       "14  hours       hour        False    True      NOUN   pobj      0.0         \n",
       "16  \\n          \\n          False    False     SPACE  punct     0.0         \n",
       "17  let         let         False    True      VERB   ROOT      0.0         \n",
       "18  's          's          True     False     PRON   nsubj     0.0         \n",
       "19  see         see         True     True      VERB   ccomp     0.0         \n",
       "20  what        what        True     True      PRON   nsubj     0.0         \n",
       "21  's          be          True     False     AUX    aux       0.0         \n",
       "22  happening   happen      False    True      VERB   ccomp     0.0         \n",
       "23  while       while       True     True      SCONJ  mark      0.0         \n",
       "24  $           $           False    False     SYM    quantmod  0.0         \n",
       "25  btc         btc         False    True      NOUN   compound  0.0         \n",
       "26  deals       deal        False    True      NOUN   dobj      0.0         \n",
       "27  with        with        True     True      ADP    prep      0.0         \n",
       "28  this        this        True     True      DET    det       0.0         \n",
       "29  resistance  resistance  False    True      NOUN   pobj      0.0         \n",
       "30  at          at          True     True      ADP    prep      0.0         \n",
       "31  $           $           False    False     SYM    nmod      0.0         \n",
       "32  7400-       7400-       False    False     NOUN   pobj      0.0         \n",
       "\n",
       "   ent_type_ ent_iob_  \n",
       "0             O        \n",
       "1             O        \n",
       "3   TIME      B        \n",
       "5             O        \n",
       "6             O        \n",
       "7             O        \n",
       "8             O        \n",
       "9             O        \n",
       "10            O        \n",
       "11            O        \n",
       "12  TIME      B        \n",
       "13  TIME      I        \n",
       "14  TIME      I        \n",
       "16            O        \n",
       "17            O        \n",
       "18            O        \n",
       "19            O        \n",
       "20            O        \n",
       "21            O        \n",
       "22            O        \n",
       "23            O        \n",
       "24            O        \n",
       "25            O        \n",
       "26            O        \n",
       "27            O        \n",
       "28            O        \n",
       "29            O        \n",
       "30            O        \n",
       "31            O        \n",
       "32  MONEY     B        "
      ]
     },
     "execution_count": 51,
     "metadata": {},
     "output_type": "execute_result"
    }
   ],
   "source": [
    "display_nlp(doc)"
   ]
  },
  {
   "cell_type": "code",
   "execution_count": 52,
   "metadata": {},
   "outputs": [
    {
     "data": {
      "text/plain": [
       "0.0"
      ]
     },
     "execution_count": 52,
     "metadata": {},
     "output_type": "execute_result"
    }
   ],
   "source": [
    "doc.sentiment"
   ]
  },
  {
   "cell_type": "code",
   "execution_count": 59,
   "metadata": {},
   "outputs": [],
   "source": [
    "# testing a custom tokenizer function\n",
    "\n",
    "def custom_tokenizer(nlp):\n",
    "    prefixes = [pattern for pattern in nlp.Defaults.prefixes if pattern not in ['-', '_', '#', '$']]\n",
    "    suffixes = [pattern for pattern in nlp.Defaults.suffixes if pattern not in ['_']]\n",
    "    infixes = [pattern for pattern in nlp.Defaults.infixes if not re.search(pattern, 'xx-xx')]\n",
    "    \n",
    "    return Tokenizer(vocab = nlp.vocab,\n",
    "                     rules = nlp.Defaults.tokenizer_exceptions,\n",
    "                     prefix_search = compile_prefix_regex(prefixes).search,\n",
    "                     suffix_search = compile_suffix_regex(suffixes).search,\n",
    "                     infix_finditer = compile_infix_regex(infixes).finditer,\n",
    "                     token_match = nlp.Defaults.token_match)\n",
    "\n",
    "nlp = spacy.load('en_core_web_sm')"
   ]
  },
  {
   "cell_type": "code",
   "execution_count": 60,
   "metadata": {},
   "outputs": [],
   "source": [
    "nlp.tokenizer = custom_tokenizer(nlp)"
   ]
  },
  {
   "cell_type": "code",
   "execution_count": 61,
   "metadata": {},
   "outputs": [
    {
     "name": "stdout",
     "output_type": "stream",
     "text": [
      "rt|@thewolfofalts|:|this|looks|awesome|!|$|ion|$|xdm|$|btc|$|eth|_url_|"
     ]
    }
   ],
   "source": [
    "doc = nlp(tweets['normalized_text'][8])\n",
    "for token in doc:\n",
    "    print(token, end='|')"
   ]
  },
  {
   "cell_type": "code",
   "execution_count": 62,
   "metadata": {},
   "outputs": [
    {
     "data": {
      "text/plain": [
       "[rt, @thewolfofalts, looks, awesome, $, ion, $, xdm, $, btc, $, eth, _url_]"
      ]
     },
     "execution_count": 62,
     "metadata": {},
     "output_type": "execute_result"
    }
   ],
   "source": [
    "non_stop = [t for t in doc if not t.is_stop and not t.is_punct]\n",
    "non_stop"
   ]
  },
  {
   "cell_type": "code",
   "execution_count": 68,
   "metadata": {},
   "outputs": [
    {
     "name": "stdout",
     "output_type": "stream",
     "text": [
      "rt|@thewolfofalt|:|this|look|awesome|!|$|ion|$|xdm|$|btc|$|eth|_url_\n"
     ]
    }
   ],
   "source": [
    "print(*[t.lemma_ for t in doc], sep='|')"
   ]
  },
  {
   "cell_type": "code",
   "execution_count": 69,
   "metadata": {},
   "outputs": [
    {
     "data": {
      "text/plain": [
       "[rt, @thewolfofalts, ion, xdm, btc, eth, _url_]"
      ]
     },
     "execution_count": 69,
     "metadata": {},
     "output_type": "execute_result"
    }
   ],
   "source": [
    "nouns = [t for t in doc if t.pos_ in ['NOUN', 'PROPN']]\n",
    "nouns"
   ]
  },
  {
   "cell_type": "code",
   "execution_count": 72,
   "metadata": {},
   "outputs": [
    {
     "name": "stdout",
     "output_type": "stream",
     "text": [
      "@thewolfofalts|awesome|ion|xdm|btc|eth\n"
     ]
    }
   ],
   "source": [
    "tokens = textacy.extract.words(doc,\n",
    "                              filter_stops = True,\n",
    "                              filter_punct = True,\n",
    "                              filter_nums = True,\n",
    "                              include_pos = ['ADJ', 'NOUN'],\n",
    "                              exclude_pos = None,\n",
    "                              min_freq = 1)\n",
    "\n",
    "print(*[t for t in tokens], sep='|')"
   ]
  },
  {
   "cell_type": "code",
   "execution_count": 73,
   "metadata": {},
   "outputs": [],
   "source": [
    "def extract_lemmas(doc, **kwargs):\n",
    "    return [t.lemma_ for t in textacy.extract.words(doc, **kwargs)]"
   ]
  },
  {
   "cell_type": "code",
   "execution_count": 75,
   "metadata": {},
   "outputs": [
    {
     "name": "stdout",
     "output_type": "stream",
     "text": [
      "@thewolfofalt|awesome|ion|xdm|btc|eth\n"
     ]
    }
   ],
   "source": [
    "lemmas = extract_lemmas(doc, include_pos=['ADJ', 'NOUN'])\n",
    "print(*lemmas, sep='|')"
   ]
  },
  {
   "cell_type": "code",
   "execution_count": 76,
   "metadata": {},
   "outputs": [
    {
     "name": "stdout",
     "output_type": "stream",
     "text": [
      "(eth, MONEY) "
     ]
    }
   ],
   "source": [
    "for ent in doc.ents:\n",
    "    print(f'({ent.text}, {ent.label_})', end=' ')"
   ]
  },
  {
   "cell_type": "code",
   "execution_count": 87,
   "metadata": {},
   "outputs": [],
   "source": [
    "def extract_noun_phrases(doc, preceding_pos=['NOUN'], sep='_'):\n",
    "    patterns = []\n",
    "    for pos in preceding_pos:\n",
    "        patterns.append(f\"POS:{pos} POS:NOUN:+\")\n",
    "    spans = textacy.extract.matches(doc, patterns=patterns)\n",
    "    return [sep.join([t.lemma_ for t in s]) for s in spans]"
   ]
  },
  {
   "cell_type": "code",
   "execution_count": 98,
   "metadata": {},
   "outputs": [],
   "source": [
    "# fucntion to extract everything I need\n",
    "def extract_nlp(doc):\n",
    "    return {\n",
    "        'lemmas': extract_lemmas(doc, exclude_pos=['PART', 'PUNCT', 'DET', 'PRON', 'SYM', 'SPACE'], \n",
    "                                 filter_stops=False),\n",
    "        'adjs_verbs': extract_lemmas(doc, include_pos=['ADJ', 'VERB']),\n",
    "        'nouns': extract_lemmas(doc, include_pos=['NOUN', 'PROPN']),\n",
    "        'noun_phrases': extract_noun_phrases(doc, ['NOUN']),\n",
    "        'adj_noun_phrases': extract_noun_phrases(doc, ['ADJ']),\n",
    "        'entities': extract_entities(doc, ['PERSON', 'ORG', 'GPE', 'LOC'])\n",
    "    }"
   ]
  },
  {
   "cell_type": "markdown",
   "metadata": {},
   "source": [
    "I've realized that some of the data cleaning I've done isn't wise to do when trying to perform sentiment analysis, so I won't be using all the preprocessing steps I've performed."
   ]
  },
  {
   "cell_type": "markdown",
   "metadata": {},
   "source": [
    "# Sentiment Analysis"
   ]
  },
  {
   "cell_type": "code",
   "execution_count": 6,
   "metadata": {},
   "outputs": [
    {
     "name": "stderr",
     "output_type": "stream",
     "text": [
      "[nltk_data] Downloading package opinion_lexicon to\n",
      "[nltk_data]     C:\\Users\\ckell\\AppData\\Roaming\\nltk_data...\n",
      "[nltk_data]   Package opinion_lexicon is already up-to-date!\n"
     ]
    },
    {
     "data": {
      "text/plain": [
       "True"
      ]
     },
     "execution_count": 6,
     "metadata": {},
     "output_type": "execute_result"
    }
   ],
   "source": [
    "from nltk.corpus import opinion_lexicon\n",
    "from nltk.tokenize import word_tokenize\n",
    "nltk.download('opinion_lexicon')"
   ]
  },
  {
   "cell_type": "code",
   "execution_count": 7,
   "metadata": {},
   "outputs": [
    {
     "name": "stdout",
     "output_type": "stream",
     "text": [
      "Total number of words in opinion lexicon 6789\n",
      "Examples of positive words in opinion lexicon ['a+', 'abound', 'abounds', 'abundance', 'abundant']\n",
      "Examples of negative words in opinion lexicon ['2-faced', '2-faces', 'abnormal', 'abolish', 'abominable']\n"
     ]
    }
   ],
   "source": [
    "print('Total number of words in opinion lexicon', len(opinion_lexicon.words()))\n",
    "print('Examples of positive words in opinion lexicon', opinion_lexicon.positive()[:5])\n",
    "print('Examples of negative words in opinion lexicon', opinion_lexicon.negative()[:5])"
   ]
  },
  {
   "cell_type": "code",
   "execution_count": 8,
   "metadata": {},
   "outputs": [],
   "source": [
    "# create dictionary for scoring text\n",
    "pos_score = 1\n",
    "neg_score = -1\n",
    "word_dict = {}"
   ]
  },
  {
   "cell_type": "code",
   "execution_count": 9,
   "metadata": {},
   "outputs": [],
   "source": [
    "# add positive words to dictionary\n",
    "for word in opinion_lexicon.positive():\n",
    "    word_dict[word] = pos_score"
   ]
  },
  {
   "cell_type": "code",
   "execution_count": 10,
   "metadata": {},
   "outputs": [],
   "source": [
    "# add negative words to dictionary\n",
    "for word in opinion_lexicon.negative():\n",
    "    word_dict[word] = neg_score"
   ]
  },
  {
   "cell_type": "code",
   "execution_count": 11,
   "metadata": {},
   "outputs": [],
   "source": [
    "# fucntion to give a sentiment score to each tweet based on the number of positive or negative words in the bing liu \n",
    "# lexicon divided by the total number of words in the tweet. Positive words count as +1, negative words as -1.\n",
    "def bing_liu_score(text):\n",
    "    sentiment_score = 0\n",
    "    # convert text to lower case and tokenize\n",
    "    bag_of_words = word_tokenize(text.lower())\n",
    "    for word in bag_of_words:\n",
    "        if word in word_dict:\n",
    "            sentiment_score += word_dict[word]\n",
    "    return sentiment_score / len(bag_of_words)"
   ]
  },
  {
   "cell_type": "code",
   "execution_count": 15,
   "metadata": {},
   "outputs": [
    {
     "data": {
      "text/html": [
       "<div>\n",
       "<style scoped>\n",
       "    .dataframe tbody tr th:only-of-type {\n",
       "        vertical-align: middle;\n",
       "    }\n",
       "\n",
       "    .dataframe tbody tr th {\n",
       "        vertical-align: top;\n",
       "    }\n",
       "\n",
       "    .dataframe thead th {\n",
       "        text-align: right;\n",
       "    }\n",
       "</style>\n",
       "<table border=\"1\" class=\"dataframe\">\n",
       "  <thead>\n",
       "    <tr style=\"text-align: right;\">\n",
       "      <th></th>\n",
       "      <th>tweet_text</th>\n",
       "      <th>bing_liu_score</th>\n",
       "      <th>bing_liu_score_normalized</th>\n",
       "    </tr>\n",
       "  </thead>\n",
       "  <tbody>\n",
       "    <tr>\n",
       "      <th>29607</th>\n",
       "      <td>$LIT Lithium https://t.co/1G5RGuKBAp</td>\n",
       "      <td>0.000000</td>\n",
       "      <td>0.000000</td>\n",
       "    </tr>\n",
       "    <tr>\n",
       "      <th>2576</th>\n",
       "      <td>Pzena Investment Management $PZN Rating Lowere...</td>\n",
       "      <td>0.058824</td>\n",
       "      <td>0.066667</td>\n",
       "    </tr>\n",
       "    <tr>\n",
       "      <th>16854</th>\n",
       "      <td>🔔Thank you for ringing the Opening Bell with u...</td>\n",
       "      <td>0.000000</td>\n",
       "      <td>0.000000</td>\n",
       "    </tr>\n",
       "  </tbody>\n",
       "</table>\n",
       "</div>"
      ],
      "text/plain": [
       "                                              tweet_text  bing_liu_score  \\\n",
       "29607               $LIT Lithium https://t.co/1G5RGuKBAp        0.000000   \n",
       "2576   Pzena Investment Management $PZN Rating Lowere...        0.058824   \n",
       "16854  🔔Thank you for ringing the Opening Bell with u...        0.000000   \n",
       "\n",
       "       bing_liu_score_normalized  \n",
       "29607                   0.000000  \n",
       "2576                    0.066667  \n",
       "16854                   0.000000  "
      ]
     },
     "execution_count": 15,
     "metadata": {},
     "output_type": "execute_result"
    }
   ],
   "source": [
    "# add bing liu score to dataset using non-normalized data and normailzed data\n",
    "tweets['bing_liu_score'] = tweets['tweet_text'].apply(bing_liu_score)\n",
    "tweets['bing_liu_score_normalized'] = tweets['normalized_text'].apply(bing_liu_score)\n",
    "tweets[['tweet_text', 'bing_liu_score', 'bing_liu_score_normalized']].sample(3)"
   ]
  },
  {
   "cell_type": "code",
   "execution_count": 22,
   "metadata": {},
   "outputs": [
    {
     "name": "stderr",
     "output_type": "stream",
     "text": [
      "C:\\Users\\ckell\\AppData\\Local\\Continuum\\anaconda3\\envs\\tf2\\lib\\site-packages\\numpy\\core\\fromnumeric.py:61: FutureWarning: \n",
      "The current behaviour of 'Series.argmax' is deprecated, use 'idxmax'\n",
      "instead.\n",
      "The behavior of 'argmax' will be corrected to return the positional\n",
      "maximum in the future. For now, use 'series.values.argmax' or\n",
      "'np.argmax(np.array(values))' to get the position of the maximum\n",
      "row.\n",
      "  return bound(*args, **kwds)\n"
     ]
    },
    {
     "data": {
      "text/plain": [
       "Unnamed: 0                                230771\n",
       "Unnamed: 0.1                              230771\n",
       "tweet_date        Mon Jul 30 13:35:57 +0000 2018\n",
       "tweet_id                     1023925165246369792\n",
       "tweet_text                 Super bullish on $btc\n",
       "lang                                          en\n",
       "retweet                                    False\n",
       "tweet_url                                  False\n",
       "tweet_reply                                False\n",
       "hashes                                        []\n",
       "user_name                              BitWalker\n",
       "screen_name                           BitWalker_\n",
       "user_verified                              False\n",
       "user_lang                                     en\n",
       "regex_matches                           ['$btc']\n",
       "bing_liu_score                               0.4\n",
       "Name: 15010, dtype: object"
      ]
     },
     "execution_count": 22,
     "metadata": {},
     "output_type": "execute_result"
    }
   ],
   "source": [
    "# tweet with highest bing liu score\n",
    "tweets.iloc[np.argmax(tweets['bing_liu_score'])]"
   ]
  },
  {
   "cell_type": "code",
   "execution_count": 12,
   "metadata": {},
   "outputs": [
    {
     "name": "stderr",
     "output_type": "stream",
     "text": [
      "[nltk_data] Downloading package vader_lexicon to\n",
      "[nltk_data]     C:\\Users\\ckell\\AppData\\Roaming\\nltk_data...\n",
      "[nltk_data]   Package vader_lexicon is already up-to-date!\n"
     ]
    },
    {
     "data": {
      "text/plain": [
       "True"
      ]
     },
     "execution_count": 12,
     "metadata": {},
     "output_type": "execute_result"
    }
   ],
   "source": [
    "# using the VADER lexicon instead, which is supposed to be good for social media text\n",
    "nltk.download('vader_lexicon')"
   ]
  },
  {
   "cell_type": "code",
   "execution_count": 13,
   "metadata": {},
   "outputs": [],
   "source": [
    "sid = SentimentIntensityAnalyzer()"
   ]
  },
  {
   "cell_type": "code",
   "execution_count": 25,
   "metadata": {},
   "outputs": [
    {
     "data": {
      "text/plain": [
       "{'neg': 0.134, 'neu': 0.866, 'pos': 0.0, 'compound': -0.4767}"
      ]
     },
     "execution_count": 25,
     "metadata": {},
     "output_type": "execute_result"
    }
   ],
   "source": [
    "# sentiment scores of the first tweet\n",
    "sid.polarity_scores(tweets['tweet_text'].iloc[0])"
   ]
  },
  {
   "cell_type": "code",
   "execution_count": 14,
   "metadata": {},
   "outputs": [
    {
     "data": {
      "text/html": [
       "<div>\n",
       "<style scoped>\n",
       "    .dataframe tbody tr th:only-of-type {\n",
       "        vertical-align: middle;\n",
       "    }\n",
       "\n",
       "    .dataframe tbody tr th {\n",
       "        vertical-align: top;\n",
       "    }\n",
       "\n",
       "    .dataframe thead th {\n",
       "        text-align: right;\n",
       "    }\n",
       "</style>\n",
       "<table border=\"1\" class=\"dataframe\">\n",
       "  <thead>\n",
       "    <tr style=\"text-align: right;\">\n",
       "      <th></th>\n",
       "      <th>Unnamed: 0</th>\n",
       "      <th>Unnamed: 0.1</th>\n",
       "      <th>tweet_date</th>\n",
       "      <th>tweet_id</th>\n",
       "      <th>tweet_text</th>\n",
       "      <th>lang</th>\n",
       "      <th>retweet</th>\n",
       "      <th>tweet_url</th>\n",
       "      <th>tweet_reply</th>\n",
       "      <th>hashes</th>\n",
       "      <th>user_name</th>\n",
       "      <th>screen_name</th>\n",
       "      <th>user_verified</th>\n",
       "      <th>user_lang</th>\n",
       "      <th>regex_matches</th>\n",
       "      <th>normalized_text</th>\n",
       "      <th>vader_scores</th>\n",
       "      <th>vader_scores_normalized</th>\n",
       "    </tr>\n",
       "  </thead>\n",
       "  <tbody>\n",
       "    <tr>\n",
       "      <th>36468</th>\n",
       "      <td>975336</td>\n",
       "      <td>975336</td>\n",
       "      <td>Tue Jul 24 02:45:02 +0000 2018</td>\n",
       "      <td>1021587029526757376</td>\n",
       "      <td>RT @cryptomocho: $btc and #alts now https://t....</td>\n",
       "      <td>en</td>\n",
       "      <td>False</td>\n",
       "      <td>False</td>\n",
       "      <td>False</td>\n",
       "      <td>[{'text': 'alts', 'indices': [26, 31]}]</td>\n",
       "      <td>LuckDragon69</td>\n",
       "      <td>LuckDragon69</td>\n",
       "      <td>False</td>\n",
       "      <td>en</td>\n",
       "      <td>['$btc']</td>\n",
       "      <td>rt @cryptomocho: $btc and #alts now _url_</td>\n",
       "      <td>{'neg': 0.0, 'neu': 1.0, 'pos': 0.0, 'compound...</td>\n",
       "      <td>{'neg': 0.0, 'neu': 1.0, 'pos': 0.0, 'compound...</td>\n",
       "    </tr>\n",
       "    <tr>\n",
       "      <th>1674</th>\n",
       "      <td>5556</td>\n",
       "      <td>5556</td>\n",
       "      <td>Wed Jul 11 18:13:29 +0000 2018</td>\n",
       "      <td>1017109639345983488</td>\n",
       "      <td>don't miss out on registering on Binance, befo...</td>\n",
       "      <td>en</td>\n",
       "      <td>False</td>\n",
       "      <td>True</td>\n",
       "      <td>False</td>\n",
       "      <td>[]</td>\n",
       "      <td>jenna rossi</td>\n",
       "      <td>jennarossi87</td>\n",
       "      <td>False</td>\n",
       "      <td>en</td>\n",
       "      <td>['$BTC']</td>\n",
       "      <td>don't miss out on registering on binance, befo...</td>\n",
       "      <td>{'neg': 0.0, 'neu': 0.907, 'pos': 0.093, 'comp...</td>\n",
       "      <td>{'neg': 0.0, 'neu': 0.907, 'pos': 0.093, 'comp...</td>\n",
       "    </tr>\n",
       "  </tbody>\n",
       "</table>\n",
       "</div>"
      ],
      "text/plain": [
       "       Unnamed: 0  Unnamed: 0.1                      tweet_date  \\\n",
       "36468      975336        975336  Tue Jul 24 02:45:02 +0000 2018   \n",
       "1674         5556          5556  Wed Jul 11 18:13:29 +0000 2018   \n",
       "\n",
       "                  tweet_id                                         tweet_text  \\\n",
       "36468  1021587029526757376  RT @cryptomocho: $btc and #alts now https://t....   \n",
       "1674   1017109639345983488  don't miss out on registering on Binance, befo...   \n",
       "\n",
       "      lang  retweet  tweet_url  tweet_reply  \\\n",
       "36468   en    False      False        False   \n",
       "1674    en    False       True        False   \n",
       "\n",
       "                                        hashes     user_name   screen_name  \\\n",
       "36468  [{'text': 'alts', 'indices': [26, 31]}]  LuckDragon69  LuckDragon69   \n",
       "1674                                        []   jenna rossi  jennarossi87   \n",
       "\n",
       "       user_verified user_lang regex_matches  \\\n",
       "36468          False        en      ['$btc']   \n",
       "1674           False        en      ['$BTC']   \n",
       "\n",
       "                                         normalized_text  \\\n",
       "36468          rt @cryptomocho: $btc and #alts now _url_   \n",
       "1674   don't miss out on registering on binance, befo...   \n",
       "\n",
       "                                            vader_scores  \\\n",
       "36468  {'neg': 0.0, 'neu': 1.0, 'pos': 0.0, 'compound...   \n",
       "1674   {'neg': 0.0, 'neu': 0.907, 'pos': 0.093, 'comp...   \n",
       "\n",
       "                                 vader_scores_normalized  \n",
       "36468  {'neg': 0.0, 'neu': 1.0, 'pos': 0.0, 'compound...  \n",
       "1674   {'neg': 0.0, 'neu': 0.907, 'pos': 0.093, 'comp...  "
      ]
     },
     "execution_count": 14,
     "metadata": {},
     "output_type": "execute_result"
    }
   ],
   "source": [
    "# add vader scores to dataset, using non-normalized data and normalized data\n",
    "tweets['vader_scores'] = tweets['tweet_text'].apply(lambda review: sid.polarity_scores(review))\n",
    "tweets['vader_scores_normalized'] = tweets['normalized_text'].apply(lambda review: sid.polarity_scores(review))\n",
    "tweets.sample(2)"
   ]
  },
  {
   "cell_type": "code",
   "execution_count": 16,
   "metadata": {},
   "outputs": [
    {
     "data": {
      "text/html": [
       "<div>\n",
       "<style scoped>\n",
       "    .dataframe tbody tr th:only-of-type {\n",
       "        vertical-align: middle;\n",
       "    }\n",
       "\n",
       "    .dataframe tbody tr th {\n",
       "        vertical-align: top;\n",
       "    }\n",
       "\n",
       "    .dataframe thead th {\n",
       "        text-align: right;\n",
       "    }\n",
       "</style>\n",
       "<table border=\"1\" class=\"dataframe\">\n",
       "  <thead>\n",
       "    <tr style=\"text-align: right;\">\n",
       "      <th></th>\n",
       "      <th>Unnamed: 0</th>\n",
       "      <th>Unnamed: 0.1</th>\n",
       "      <th>tweet_date</th>\n",
       "      <th>tweet_id</th>\n",
       "      <th>tweet_text</th>\n",
       "      <th>lang</th>\n",
       "      <th>retweet</th>\n",
       "      <th>tweet_url</th>\n",
       "      <th>tweet_reply</th>\n",
       "      <th>hashes</th>\n",
       "      <th>...</th>\n",
       "      <th>user_verified</th>\n",
       "      <th>user_lang</th>\n",
       "      <th>regex_matches</th>\n",
       "      <th>normalized_text</th>\n",
       "      <th>vader_scores</th>\n",
       "      <th>vader_scores_normalized</th>\n",
       "      <th>bing_liu_score</th>\n",
       "      <th>bing_liu_score_normalized</th>\n",
       "      <th>compound_vader_score</th>\n",
       "      <th>compound_vader_score_norm</th>\n",
       "    </tr>\n",
       "  </thead>\n",
       "  <tbody>\n",
       "    <tr>\n",
       "      <th>28659</th>\n",
       "      <td>403136</td>\n",
       "      <td>403136</td>\n",
       "      <td>Sun Jul 29 17:21:32 +0000 2018</td>\n",
       "      <td>1023619547306373120</td>\n",
       "      <td>Acadian Asset Management Has Upped Its Positio...</td>\n",
       "      <td>en</td>\n",
       "      <td>False</td>\n",
       "      <td>True</td>\n",
       "      <td>False</td>\n",
       "      <td>[]</td>\n",
       "      <td>...</td>\n",
       "      <td>False</td>\n",
       "      <td>en</td>\n",
       "      <td>['$HIBB', '$TWOU']</td>\n",
       "      <td>acadian asset management has upped its positio...</td>\n",
       "      <td>{'neg': 0.0, 'neu': 0.878, 'pos': 0.122, 'comp...</td>\n",
       "      <td>{'neg': 0.0, 'neu': 0.878, 'pos': 0.122, 'comp...</td>\n",
       "      <td>0.000000</td>\n",
       "      <td>0.0000</td>\n",
       "      <td>0.3612</td>\n",
       "      <td>0.3612</td>\n",
       "    </tr>\n",
       "    <tr>\n",
       "      <th>2933</th>\n",
       "      <td>296251</td>\n",
       "      <td>296251</td>\n",
       "      <td>Sun Jul 15 14:40:29 +0000 2018</td>\n",
       "      <td>1018505587603263488</td>\n",
       "      <td>Brokerages Set Ollie’s Bargain Outlet Holdings...</td>\n",
       "      <td>en</td>\n",
       "      <td>False</td>\n",
       "      <td>True</td>\n",
       "      <td>False</td>\n",
       "      <td>[]</td>\n",
       "      <td>...</td>\n",
       "      <td>False</td>\n",
       "      <td>en</td>\n",
       "      <td>['$OLLI']</td>\n",
       "      <td>brokerages set ollie's bargain outlet holdings...</td>\n",
       "      <td>{'neg': 0.0, 'neu': 0.87, 'pos': 0.13, 'compou...</td>\n",
       "      <td>{'neg': 0.0, 'neu': 0.87, 'pos': 0.13, 'compou...</td>\n",
       "      <td>0.052632</td>\n",
       "      <td>0.0625</td>\n",
       "      <td>0.2023</td>\n",
       "      <td>0.2023</td>\n",
       "    </tr>\n",
       "  </tbody>\n",
       "</table>\n",
       "<p>2 rows × 22 columns</p>\n",
       "</div>"
      ],
      "text/plain": [
       "       Unnamed: 0  Unnamed: 0.1                      tweet_date  \\\n",
       "28659      403136        403136  Sun Jul 29 17:21:32 +0000 2018   \n",
       "2933       296251        296251  Sun Jul 15 14:40:29 +0000 2018   \n",
       "\n",
       "                  tweet_id                                         tweet_text  \\\n",
       "28659  1023619547306373120  Acadian Asset Management Has Upped Its Positio...   \n",
       "2933   1018505587603263488  Brokerages Set Ollie’s Bargain Outlet Holdings...   \n",
       "\n",
       "      lang  retweet  tweet_url  tweet_reply hashes  ... user_verified  \\\n",
       "28659   en    False       True        False     []  ...         False   \n",
       "2933    en    False       True        False     []  ...         False   \n",
       "\n",
       "      user_lang       regex_matches  \\\n",
       "28659        en  ['$HIBB', '$TWOU']   \n",
       "2933         en           ['$OLLI']   \n",
       "\n",
       "                                         normalized_text  \\\n",
       "28659  acadian asset management has upped its positio...   \n",
       "2933   brokerages set ollie's bargain outlet holdings...   \n",
       "\n",
       "                                            vader_scores  \\\n",
       "28659  {'neg': 0.0, 'neu': 0.878, 'pos': 0.122, 'comp...   \n",
       "2933   {'neg': 0.0, 'neu': 0.87, 'pos': 0.13, 'compou...   \n",
       "\n",
       "                                 vader_scores_normalized bing_liu_score  \\\n",
       "28659  {'neg': 0.0, 'neu': 0.878, 'pos': 0.122, 'comp...       0.000000   \n",
       "2933   {'neg': 0.0, 'neu': 0.87, 'pos': 0.13, 'compou...       0.052632   \n",
       "\n",
       "      bing_liu_score_normalized  compound_vader_score  \\\n",
       "28659                    0.0000                0.3612   \n",
       "2933                     0.0625                0.2023   \n",
       "\n",
       "       compound_vader_score_norm  \n",
       "28659                     0.3612  \n",
       "2933                      0.2023  \n",
       "\n",
       "[2 rows x 22 columns]"
      ]
     },
     "execution_count": 16,
     "metadata": {},
     "output_type": "execute_result"
    }
   ],
   "source": [
    "# pull out the compound score from the vader scores for both sets of scores\n",
    "tweets['compound_vader_score'] = tweets['vader_scores'].apply(lambda score_dict: score_dict['compound'])\n",
    "tweets['compound_vader_score_norm'] = tweets['vader_scores_normalized'].apply(lambda score_dict: score_dict['compound'])\n",
    "tweets.sample(2)"
   ]
  },
  {
   "cell_type": "code",
   "execution_count": 17,
   "metadata": {},
   "outputs": [
    {
     "data": {
      "text/html": [
       "<div>\n",
       "<style scoped>\n",
       "    .dataframe tbody tr th:only-of-type {\n",
       "        vertical-align: middle;\n",
       "    }\n",
       "\n",
       "    .dataframe tbody tr th {\n",
       "        vertical-align: top;\n",
       "    }\n",
       "\n",
       "    .dataframe thead th {\n",
       "        text-align: right;\n",
       "    }\n",
       "</style>\n",
       "<table border=\"1\" class=\"dataframe\">\n",
       "  <thead>\n",
       "    <tr style=\"text-align: right;\">\n",
       "      <th></th>\n",
       "      <th>Unnamed: 0</th>\n",
       "      <th>Unnamed: 0.1</th>\n",
       "      <th>tweet_date</th>\n",
       "      <th>tweet_id</th>\n",
       "      <th>tweet_text</th>\n",
       "      <th>lang</th>\n",
       "      <th>retweet</th>\n",
       "      <th>tweet_url</th>\n",
       "      <th>tweet_reply</th>\n",
       "      <th>hashes</th>\n",
       "      <th>...</th>\n",
       "      <th>regex_matches</th>\n",
       "      <th>normalized_text</th>\n",
       "      <th>vader_scores</th>\n",
       "      <th>vader_scores_normalized</th>\n",
       "      <th>bing_liu_score</th>\n",
       "      <th>bing_liu_score_normalized</th>\n",
       "      <th>compound_vader_score</th>\n",
       "      <th>compound_vader_score_norm</th>\n",
       "      <th>vader_sentiment_label</th>\n",
       "      <th>vader_sentiment_label_norm</th>\n",
       "    </tr>\n",
       "  </thead>\n",
       "  <tbody>\n",
       "    <tr>\n",
       "      <th>7295</th>\n",
       "      <td>1032610</td>\n",
       "      <td>1032610</td>\n",
       "      <td>Fri Jul 20 05:05:49 +0000 2018</td>\n",
       "      <td>1020172907324952582</td>\n",
       "      <td>RT @QBankChain: 🎉QBankChain Airdrop#1 Start\\n⭐...</td>\n",
       "      <td>en</td>\n",
       "      <td>False</td>\n",
       "      <td>False</td>\n",
       "      <td>False</td>\n",
       "      <td>[]</td>\n",
       "      <td>...</td>\n",
       "      <td>['$QBC']</td>\n",
       "      <td>rt @qbankchain: 🎉qbankchain airdrop#1 start\\n⭐...</td>\n",
       "      <td>{'neg': 0.0, 'neu': 0.871, 'pos': 0.129, 'comp...</td>\n",
       "      <td>{'neg': 0.0, 'neu': 0.871, 'pos': 0.129, 'comp...</td>\n",
       "      <td>0.00000</td>\n",
       "      <td>0.000000</td>\n",
       "      <td>0.4767</td>\n",
       "      <td>0.4767</td>\n",
       "      <td>pos</td>\n",
       "      <td>pos</td>\n",
       "    </tr>\n",
       "    <tr>\n",
       "      <th>3568</th>\n",
       "      <td>710290</td>\n",
       "      <td>710290</td>\n",
       "      <td>Sun Jul 15 21:48:58 +0000 2018</td>\n",
       "      <td>1018613418968928257</td>\n",
       "      <td>RT @PACcoinOfficial: Most people don't realize...</td>\n",
       "      <td>en</td>\n",
       "      <td>False</td>\n",
       "      <td>False</td>\n",
       "      <td>False</td>\n",
       "      <td>[]</td>\n",
       "      <td>...</td>\n",
       "      <td>['$PAC', '$PAC']</td>\n",
       "      <td>rt @paccoinofficial: most people don't realize...</td>\n",
       "      <td>{'neg': 0.0, 'neu': 1.0, 'pos': 0.0, 'compound...</td>\n",
       "      <td>{'neg': 0.0, 'neu': 1.0, 'pos': 0.0, 'compound...</td>\n",
       "      <td>-0.03125</td>\n",
       "      <td>-0.030303</td>\n",
       "      <td>0.0000</td>\n",
       "      <td>0.0000</td>\n",
       "      <td>pos</td>\n",
       "      <td>pos</td>\n",
       "    </tr>\n",
       "  </tbody>\n",
       "</table>\n",
       "<p>2 rows × 24 columns</p>\n",
       "</div>"
      ],
      "text/plain": [
       "      Unnamed: 0  Unnamed: 0.1                      tweet_date  \\\n",
       "7295     1032610       1032610  Fri Jul 20 05:05:49 +0000 2018   \n",
       "3568      710290        710290  Sun Jul 15 21:48:58 +0000 2018   \n",
       "\n",
       "                 tweet_id                                         tweet_text  \\\n",
       "7295  1020172907324952582  RT @QBankChain: 🎉QBankChain Airdrop#1 Start\\n⭐...   \n",
       "3568  1018613418968928257  RT @PACcoinOfficial: Most people don't realize...   \n",
       "\n",
       "     lang  retweet  tweet_url  tweet_reply hashes  ...     regex_matches  \\\n",
       "7295   en    False      False        False     []  ...          ['$QBC']   \n",
       "3568   en    False      False        False     []  ...  ['$PAC', '$PAC']   \n",
       "\n",
       "                                        normalized_text  \\\n",
       "7295  rt @qbankchain: 🎉qbankchain airdrop#1 start\\n⭐...   \n",
       "3568  rt @paccoinofficial: most people don't realize...   \n",
       "\n",
       "                                           vader_scores  \\\n",
       "7295  {'neg': 0.0, 'neu': 0.871, 'pos': 0.129, 'comp...   \n",
       "3568  {'neg': 0.0, 'neu': 1.0, 'pos': 0.0, 'compound...   \n",
       "\n",
       "                                vader_scores_normalized bing_liu_score  \\\n",
       "7295  {'neg': 0.0, 'neu': 0.871, 'pos': 0.129, 'comp...        0.00000   \n",
       "3568  {'neg': 0.0, 'neu': 1.0, 'pos': 0.0, 'compound...       -0.03125   \n",
       "\n",
       "     bing_liu_score_normalized compound_vader_score compound_vader_score_norm  \\\n",
       "7295                  0.000000               0.4767                    0.4767   \n",
       "3568                 -0.030303               0.0000                    0.0000   \n",
       "\n",
       "      vader_sentiment_label  vader_sentiment_label_norm  \n",
       "7295                    pos                         pos  \n",
       "3568                    pos                         pos  \n",
       "\n",
       "[2 rows x 24 columns]"
      ]
     },
     "execution_count": 17,
     "metadata": {},
     "output_type": "execute_result"
    }
   ],
   "source": [
    "# add pos or neg label based on compound vader score for both tweets sets, spliting positive or negative at zero\n",
    "tweets['vader_sentiment_label'] = tweets['compound_vader_score'].apply(lambda c: 'pos' if c >= 0 else 'neg')\n",
    "tweets['vader_sentiment_label_norm'] = tweets['compound_vader_score_norm'].apply(lambda c: 'pos' if c >= 0 else 'neg')\n",
    "tweets.sample(2)"
   ]
  },
  {
   "cell_type": "code",
   "execution_count": 18,
   "metadata": {},
   "outputs": [
    {
     "data": {
      "text/html": [
       "<div>\n",
       "<style scoped>\n",
       "    .dataframe tbody tr th:only-of-type {\n",
       "        vertical-align: middle;\n",
       "    }\n",
       "\n",
       "    .dataframe tbody tr th {\n",
       "        vertical-align: top;\n",
       "    }\n",
       "\n",
       "    .dataframe thead th {\n",
       "        text-align: right;\n",
       "    }\n",
       "</style>\n",
       "<table border=\"1\" class=\"dataframe\">\n",
       "  <thead>\n",
       "    <tr style=\"text-align: right;\">\n",
       "      <th></th>\n",
       "      <th>Unnamed: 0</th>\n",
       "      <th>Unnamed: 0.1</th>\n",
       "      <th>tweet_date</th>\n",
       "      <th>tweet_id</th>\n",
       "      <th>tweet_text</th>\n",
       "      <th>lang</th>\n",
       "      <th>retweet</th>\n",
       "      <th>tweet_url</th>\n",
       "      <th>tweet_reply</th>\n",
       "      <th>hashes</th>\n",
       "      <th>...</th>\n",
       "      <th>vader_scores</th>\n",
       "      <th>vader_scores_normalized</th>\n",
       "      <th>bing_liu_score</th>\n",
       "      <th>bing_liu_score_normalized</th>\n",
       "      <th>compound_vader_score</th>\n",
       "      <th>compound_vader_score_norm</th>\n",
       "      <th>vader_sentiment_label</th>\n",
       "      <th>vader_sentiment_label_norm</th>\n",
       "      <th>three_part_vader_label</th>\n",
       "      <th>three_part_vader_label_norm</th>\n",
       "    </tr>\n",
       "  </thead>\n",
       "  <tbody>\n",
       "    <tr>\n",
       "      <th>38348</th>\n",
       "      <td>281962</td>\n",
       "      <td>281962</td>\n",
       "      <td>Mon Jul 02 14:32:30 +0000 2018</td>\n",
       "      <td>1013792536278646784</td>\n",
       "      <td>RT @MooncoinUK: #mooncompetition Your chance t...</td>\n",
       "      <td>en</td>\n",
       "      <td>False</td>\n",
       "      <td>False</td>\n",
       "      <td>False</td>\n",
       "      <td>[{'text': 'mooncompetition', 'indices': [16, 3...</td>\n",
       "      <td>...</td>\n",
       "      <td>{'neg': 0.039, 'neu': 0.565, 'pos': 0.396, 'co...</td>\n",
       "      <td>{'neg': 0.04, 'neu': 0.578, 'pos': 0.383, 'com...</td>\n",
       "      <td>0.064516</td>\n",
       "      <td>0.0625</td>\n",
       "      <td>0.9191</td>\n",
       "      <td>0.9062</td>\n",
       "      <td>pos</td>\n",
       "      <td>pos</td>\n",
       "      <td>pos</td>\n",
       "      <td>pos</td>\n",
       "    </tr>\n",
       "    <tr>\n",
       "      <th>37137</th>\n",
       "      <td>272775</td>\n",
       "      <td>272775</td>\n",
       "      <td>Sun Jul 22 14:27:22 +0000 2018</td>\n",
       "      <td>1021039001749377029</td>\n",
       "      <td>Hawaiian Holdings Inc $HA Sentiment  Increased...</td>\n",
       "      <td>en</td>\n",
       "      <td>False</td>\n",
       "      <td>True</td>\n",
       "      <td>False</td>\n",
       "      <td>[]</td>\n",
       "      <td>...</td>\n",
       "      <td>{'neg': 0.0, 'neu': 0.769, 'pos': 0.231, 'comp...</td>\n",
       "      <td>{'neg': 0.0, 'neu': 0.769, 'pos': 0.231, 'comp...</td>\n",
       "      <td>0.000000</td>\n",
       "      <td>0.0000</td>\n",
       "      <td>0.2732</td>\n",
       "      <td>0.2732</td>\n",
       "      <td>pos</td>\n",
       "      <td>pos</td>\n",
       "      <td>pos</td>\n",
       "      <td>pos</td>\n",
       "    </tr>\n",
       "  </tbody>\n",
       "</table>\n",
       "<p>2 rows × 26 columns</p>\n",
       "</div>"
      ],
      "text/plain": [
       "       Unnamed: 0  Unnamed: 0.1                      tweet_date  \\\n",
       "38348      281962        281962  Mon Jul 02 14:32:30 +0000 2018   \n",
       "37137      272775        272775  Sun Jul 22 14:27:22 +0000 2018   \n",
       "\n",
       "                  tweet_id                                         tweet_text  \\\n",
       "38348  1013792536278646784  RT @MooncoinUK: #mooncompetition Your chance t...   \n",
       "37137  1021039001749377029  Hawaiian Holdings Inc $HA Sentiment  Increased...   \n",
       "\n",
       "      lang  retweet  tweet_url  tweet_reply  \\\n",
       "38348   en    False      False        False   \n",
       "37137   en    False       True        False   \n",
       "\n",
       "                                                  hashes  ...  \\\n",
       "38348  [{'text': 'mooncompetition', 'indices': [16, 3...  ...   \n",
       "37137                                                 []  ...   \n",
       "\n",
       "                                            vader_scores  \\\n",
       "38348  {'neg': 0.039, 'neu': 0.565, 'pos': 0.396, 'co...   \n",
       "37137  {'neg': 0.0, 'neu': 0.769, 'pos': 0.231, 'comp...   \n",
       "\n",
       "                                 vader_scores_normalized  bing_liu_score  \\\n",
       "38348  {'neg': 0.04, 'neu': 0.578, 'pos': 0.383, 'com...        0.064516   \n",
       "37137  {'neg': 0.0, 'neu': 0.769, 'pos': 0.231, 'comp...        0.000000   \n",
       "\n",
       "      bing_liu_score_normalized compound_vader_score  \\\n",
       "38348                    0.0625               0.9191   \n",
       "37137                    0.0000               0.2732   \n",
       "\n",
       "      compound_vader_score_norm vader_sentiment_label  \\\n",
       "38348                    0.9062                   pos   \n",
       "37137                    0.2732                   pos   \n",
       "\n",
       "      vader_sentiment_label_norm  three_part_vader_label  \\\n",
       "38348                        pos                     pos   \n",
       "37137                        pos                     pos   \n",
       "\n",
       "       three_part_vader_label_norm  \n",
       "38348                          pos  \n",
       "37137                          pos  \n",
       "\n",
       "[2 rows x 26 columns]"
      ]
     },
     "execution_count": 18,
     "metadata": {},
     "output_type": "execute_result"
    }
   ],
   "source": [
    "# make sentiment labels where 0.0 is labeled as neutral, both tweet sets\n",
    "tweets['three_part_vader_label'] = tweets['compound_vader_score'].apply(lambda c: 'pos' if c > 0 else ('neg' if c < 0 else 'neu'))\n",
    "tweets['three_part_vader_label_norm'] = tweets['compound_vader_score_norm'].apply(lambda c: 'pos' if c > 0 else ('neg' if c < 0 else 'neu'))\n",
    "tweets.sample(2)"
   ]
  },
  {
   "cell_type": "code",
   "execution_count": 19,
   "metadata": {},
   "outputs": [],
   "source": [
    "# save dataset\n",
    "tweets.to_csv('finance_tweets_with_sentiment.csv')"
   ]
  }
 ],
 "metadata": {
  "kernelspec": {
   "display_name": "Python 3",
   "language": "python",
   "name": "python3"
  },
  "language_info": {
   "codemirror_mode": {
    "name": "ipython",
    "version": 3
   },
   "file_extension": ".py",
   "mimetype": "text/x-python",
   "name": "python",
   "nbconvert_exporter": "python",
   "pygments_lexer": "ipython3",
   "version": "3.7.8"
  }
 },
 "nbformat": 4,
 "nbformat_minor": 4
}
